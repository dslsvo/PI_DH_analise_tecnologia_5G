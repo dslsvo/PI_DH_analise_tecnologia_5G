{
 "cells": [
  {
   "cell_type": "markdown",
   "id": "24c5aca2",
   "metadata": {},
   "source": [
    "# PROJETO INTEGRADOR"
   ]
  },
  {
   "cell_type": "markdown",
   "id": "71315b9f",
   "metadata": {},
   "source": [
    "### IMPORTANDO BIBLIOTECAS NECESSÁRIAS"
   ]
  },
  {
   "cell_type": "code",
   "execution_count": 113,
   "id": "355a27f0",
   "metadata": {},
   "outputs": [],
   "source": [
    "import numpy as np\n",
    "import pandas as pd\n",
    "import matplotlib.pyplot as plt\n",
    "import seaborn as sns\n",
    "import shap\n",
    "from sklearn.datasets import load_boston, load_diabetes\n",
    "from sklearn.model_selection import train_test_split\n",
    "from sklearn.linear_model import LinearRegression, SGDRegressor, RidgeCV\n",
    "from sklearn.preprocessing import PolynomialFeatures\n",
    "from sklearn.metrics import mean_squared_error\n",
    "from sklearn.metrics import mean_absolute_error,mean_squared_error\n",
    "from sklearn.model_selection import cross_val_score, cross_validate\n"
   ]
  },
  {
   "cell_type": "markdown",
   "id": "c6adacea",
   "metadata": {},
   "source": [
    "# EDA - Exploratory Data Analysis"
   ]
  },
  {
   "cell_type": "code",
   "execution_count": 114,
   "id": "0204d044",
   "metadata": {},
   "outputs": [
    {
     "data": {
      "text/html": [
       "<div>\n",
       "<style scoped>\n",
       "    .dataframe tbody tr th:only-of-type {\n",
       "        vertical-align: middle;\n",
       "    }\n",
       "\n",
       "    .dataframe tbody tr th {\n",
       "        vertical-align: top;\n",
       "    }\n",
       "\n",
       "    .dataframe thead th {\n",
       "        text-align: right;\n",
       "    }\n",
       "</style>\n",
       "<table border=\"1\" class=\"dataframe\">\n",
       "  <thead>\n",
       "    <tr style=\"text-align: right;\">\n",
       "      <th></th>\n",
       "      <th>ID</th>\n",
       "      <th>Country</th>\n",
       "      <th>Code</th>\n",
       "      <th>ContinentCode</th>\n",
       "      <th>Year</th>\n",
       "      <th>Economic growth: the rate of change of real GDP</th>\n",
       "      <th>External debt, percent of Gross National Income</th>\n",
       "      <th>Economic growth forecast</th>\n",
       "      <th>Access to electricity, percent of the population</th>\n",
       "      <th>Innovations index (0-100)</th>\n",
       "      <th>...</th>\n",
       "      <th>Trade balance, billion USD</th>\n",
       "      <th>Inflation forecast</th>\n",
       "      <th>Kidnappings per 100,000 people</th>\n",
       "      <th>Robberies per 100,000 people</th>\n",
       "      <th>Number of prisoners per 100,000 people</th>\n",
       "      <th>Homicides per 100,000 people</th>\n",
       "      <th>Energia Renovável</th>\n",
       "      <th>Unemployment rate - desemprego</th>\n",
       "      <th>Representatividade Feminina</th>\n",
       "      <th>Tertiary school enrollment, percent of all eligible children</th>\n",
       "    </tr>\n",
       "  </thead>\n",
       "  <tbody>\n",
       "    <tr>\n",
       "      <th>0</th>\n",
       "      <td>2017ARG</td>\n",
       "      <td>Argentina</td>\n",
       "      <td>ARG</td>\n",
       "      <td>SA</td>\n",
       "      <td>2017</td>\n",
       "      <td>2.82</td>\n",
       "      <td>36.02</td>\n",
       "      <td>2.82</td>\n",
       "      <td>100.00</td>\n",
       "      <td>32.00</td>\n",
       "      <td>...</td>\n",
       "      <td>-15.14</td>\n",
       "      <td>24.80</td>\n",
       "      <td>920.00</td>\n",
       "      <td>920.00</td>\n",
       "      <td>193.00</td>\n",
       "      <td>5.1</td>\n",
       "      <td>25189.6</td>\n",
       "      <td>8.35</td>\n",
       "      <td>57.80</td>\n",
       "      <td>89.96</td>\n",
       "    </tr>\n",
       "    <tr>\n",
       "      <th>1</th>\n",
       "      <td>2017BOL</td>\n",
       "      <td>Bolivia</td>\n",
       "      <td>BOL</td>\n",
       "      <td>SA</td>\n",
       "      <td>2017</td>\n",
       "      <td>4.20</td>\n",
       "      <td>35.69</td>\n",
       "      <td>4.20</td>\n",
       "      <td>91.80</td>\n",
       "      <td>25.60</td>\n",
       "      <td>...</td>\n",
       "      <td>-2.17</td>\n",
       "      <td>2.72</td>\n",
       "      <td>432.57</td>\n",
       "      <td>432.57</td>\n",
       "      <td>242.57</td>\n",
       "      <td>8.0</td>\n",
       "      <td>25189.6</td>\n",
       "      <td>3.65</td>\n",
       "      <td>68.60</td>\n",
       "      <td>72.54</td>\n",
       "    </tr>\n",
       "    <tr>\n",
       "      <th>2</th>\n",
       "      <td>2017BRA</td>\n",
       "      <td>Brazil</td>\n",
       "      <td>BRA</td>\n",
       "      <td>SA</td>\n",
       "      <td>2017</td>\n",
       "      <td>1.32</td>\n",
       "      <td>26.82</td>\n",
       "      <td>1.32</td>\n",
       "      <td>99.80</td>\n",
       "      <td>33.10</td>\n",
       "      <td>...</td>\n",
       "      <td>19.00</td>\n",
       "      <td>2.95</td>\n",
       "      <td>432.57</td>\n",
       "      <td>432.57</td>\n",
       "      <td>242.57</td>\n",
       "      <td>8.0</td>\n",
       "      <td>25189.6</td>\n",
       "      <td>12.82</td>\n",
       "      <td>64.06</td>\n",
       "      <td>51.57</td>\n",
       "    </tr>\n",
       "    <tr>\n",
       "      <th>3</th>\n",
       "      <td>2017CHL</td>\n",
       "      <td>Chile</td>\n",
       "      <td>CHL</td>\n",
       "      <td>SA</td>\n",
       "      <td>2017</td>\n",
       "      <td>1.18</td>\n",
       "      <td>39.00</td>\n",
       "      <td>1.31</td>\n",
       "      <td>99.70</td>\n",
       "      <td>38.70</td>\n",
       "      <td>...</td>\n",
       "      <td>3.53</td>\n",
       "      <td>2.25</td>\n",
       "      <td>633.00</td>\n",
       "      <td>633.00</td>\n",
       "      <td>231.00</td>\n",
       "      <td>4.3</td>\n",
       "      <td>25189.6</td>\n",
       "      <td>6.96</td>\n",
       "      <td>64.06</td>\n",
       "      <td>88.46</td>\n",
       "    </tr>\n",
       "    <tr>\n",
       "      <th>4</th>\n",
       "      <td>2017COL</td>\n",
       "      <td>Colombia</td>\n",
       "      <td>COL</td>\n",
       "      <td>SA</td>\n",
       "      <td>2017</td>\n",
       "      <td>1.36</td>\n",
       "      <td>41.08</td>\n",
       "      <td>1.36</td>\n",
       "      <td>98.50</td>\n",
       "      <td>34.80</td>\n",
       "      <td>...</td>\n",
       "      <td>-8.76</td>\n",
       "      <td>4.06</td>\n",
       "      <td>244.00</td>\n",
       "      <td>244.00</td>\n",
       "      <td>244.00</td>\n",
       "      <td>24.9</td>\n",
       "      <td>25189.6</td>\n",
       "      <td>8.87</td>\n",
       "      <td>66.90</td>\n",
       "      <td>56.43</td>\n",
       "    </tr>\n",
       "    <tr>\n",
       "      <th>5</th>\n",
       "      <td>2017ECU</td>\n",
       "      <td>Ecuador</td>\n",
       "      <td>ECU</td>\n",
       "      <td>SA</td>\n",
       "      <td>2017</td>\n",
       "      <td>2.37</td>\n",
       "      <td>40.41</td>\n",
       "      <td>2.37</td>\n",
       "      <td>99.20</td>\n",
       "      <td>29.10</td>\n",
       "      <td>...</td>\n",
       "      <td>-0.49</td>\n",
       "      <td>-0.20</td>\n",
       "      <td>457.00</td>\n",
       "      <td>457.00</td>\n",
       "      <td>226.00</td>\n",
       "      <td>5.8</td>\n",
       "      <td>25189.6</td>\n",
       "      <td>3.84</td>\n",
       "      <td>70.40</td>\n",
       "      <td>72.54</td>\n",
       "    </tr>\n",
       "    <tr>\n",
       "      <th>6</th>\n",
       "      <td>2017HTI</td>\n",
       "      <td>Haiti</td>\n",
       "      <td>HTI</td>\n",
       "      <td>NaN</td>\n",
       "      <td>2017</td>\n",
       "      <td>2.51</td>\n",
       "      <td>14.38</td>\n",
       "      <td>2.51</td>\n",
       "      <td>43.75</td>\n",
       "      <td>30.56</td>\n",
       "      <td>...</td>\n",
       "      <td>0.64</td>\n",
       "      <td>7.93</td>\n",
       "      <td>432.57</td>\n",
       "      <td>432.57</td>\n",
       "      <td>242.57</td>\n",
       "      <td>8.0</td>\n",
       "      <td>25189.6</td>\n",
       "      <td>8.13</td>\n",
       "      <td>64.06</td>\n",
       "      <td>72.54</td>\n",
       "    </tr>\n",
       "    <tr>\n",
       "      <th>7</th>\n",
       "      <td>2017PER</td>\n",
       "      <td>Peru</td>\n",
       "      <td>PER</td>\n",
       "      <td>SA</td>\n",
       "      <td>2017</td>\n",
       "      <td>2.52</td>\n",
       "      <td>33.58</td>\n",
       "      <td>2.52</td>\n",
       "      <td>94.80</td>\n",
       "      <td>32.90</td>\n",
       "      <td>...</td>\n",
       "      <td>5.27</td>\n",
       "      <td>1.37</td>\n",
       "      <td>223.00</td>\n",
       "      <td>223.00</td>\n",
       "      <td>278.00</td>\n",
       "      <td>7.7</td>\n",
       "      <td>25189.6</td>\n",
       "      <td>3.69</td>\n",
       "      <td>56.60</td>\n",
       "      <td>70.74</td>\n",
       "    </tr>\n",
       "    <tr>\n",
       "      <th>8</th>\n",
       "      <td>2017PRY</td>\n",
       "      <td>Paraguay</td>\n",
       "      <td>PRY</td>\n",
       "      <td>SA</td>\n",
       "      <td>2017</td>\n",
       "      <td>4.81</td>\n",
       "      <td>42.24</td>\n",
       "      <td>4.81</td>\n",
       "      <td>99.30</td>\n",
       "      <td>30.30</td>\n",
       "      <td>...</td>\n",
       "      <td>1.60</td>\n",
       "      <td>4.49</td>\n",
       "      <td>29.00</td>\n",
       "      <td>29.00</td>\n",
       "      <td>206.00</td>\n",
       "      <td>0.0</td>\n",
       "      <td>25189.6</td>\n",
       "      <td>4.61</td>\n",
       "      <td>64.06</td>\n",
       "      <td>72.54</td>\n",
       "    </tr>\n",
       "    <tr>\n",
       "      <th>9</th>\n",
       "      <td>2017URY</td>\n",
       "      <td>Uruguay</td>\n",
       "      <td>URY</td>\n",
       "      <td>SA</td>\n",
       "      <td>2017</td>\n",
       "      <td>1.63</td>\n",
       "      <td>39.00</td>\n",
       "      <td>1.63</td>\n",
       "      <td>99.80</td>\n",
       "      <td>34.50</td>\n",
       "      <td>...</td>\n",
       "      <td>3.50</td>\n",
       "      <td>6.55</td>\n",
       "      <td>522.00</td>\n",
       "      <td>522.00</td>\n",
       "      <td>320.00</td>\n",
       "      <td>8.2</td>\n",
       "      <td>25189.6</td>\n",
       "      <td>7.89</td>\n",
       "      <td>64.06</td>\n",
       "      <td>63.13</td>\n",
       "    </tr>\n",
       "    <tr>\n",
       "      <th>10</th>\n",
       "      <td>2018ARG</td>\n",
       "      <td>Argentina</td>\n",
       "      <td>ARG</td>\n",
       "      <td>SA</td>\n",
       "      <td>2018</td>\n",
       "      <td>-2.62</td>\n",
       "      <td>54.89</td>\n",
       "      <td>-2.62</td>\n",
       "      <td>99.99</td>\n",
       "      <td>30.70</td>\n",
       "      <td>...</td>\n",
       "      <td>-9.68</td>\n",
       "      <td>47.65</td>\n",
       "      <td>432.57</td>\n",
       "      <td>432.57</td>\n",
       "      <td>242.57</td>\n",
       "      <td>8.0</td>\n",
       "      <td>25189.6</td>\n",
       "      <td>9.22</td>\n",
       "      <td>64.06</td>\n",
       "      <td>91.60</td>\n",
       "    </tr>\n",
       "    <tr>\n",
       "      <th>11</th>\n",
       "      <td>2018BOL</td>\n",
       "      <td>Bolivia</td>\n",
       "      <td>BOL</td>\n",
       "      <td>SA</td>\n",
       "      <td>2018</td>\n",
       "      <td>4.22</td>\n",
       "      <td>33.70</td>\n",
       "      <td>4.22</td>\n",
       "      <td>92.80</td>\n",
       "      <td>22.90</td>\n",
       "      <td>...</td>\n",
       "      <td>-1.99</td>\n",
       "      <td>1.51</td>\n",
       "      <td>432.57</td>\n",
       "      <td>432.57</td>\n",
       "      <td>242.57</td>\n",
       "      <td>8.0</td>\n",
       "      <td>25189.6</td>\n",
       "      <td>3.52</td>\n",
       "      <td>64.06</td>\n",
       "      <td>72.54</td>\n",
       "    </tr>\n",
       "    <tr>\n",
       "      <th>12</th>\n",
       "      <td>2018BRA</td>\n",
       "      <td>Brazil</td>\n",
       "      <td>BRA</td>\n",
       "      <td>SA</td>\n",
       "      <td>2018</td>\n",
       "      <td>1.78</td>\n",
       "      <td>29.93</td>\n",
       "      <td>1.78</td>\n",
       "      <td>99.70</td>\n",
       "      <td>33.40</td>\n",
       "      <td>...</td>\n",
       "      <td>7.38</td>\n",
       "      <td>3.75</td>\n",
       "      <td>432.57</td>\n",
       "      <td>432.57</td>\n",
       "      <td>242.57</td>\n",
       "      <td>8.0</td>\n",
       "      <td>25189.6</td>\n",
       "      <td>12.33</td>\n",
       "      <td>64.06</td>\n",
       "      <td>53.26</td>\n",
       "    </tr>\n",
       "    <tr>\n",
       "      <th>13</th>\n",
       "      <td>2018CHL</td>\n",
       "      <td>Chile</td>\n",
       "      <td>CHL</td>\n",
       "      <td>SA</td>\n",
       "      <td>2018</td>\n",
       "      <td>3.71</td>\n",
       "      <td>39.00</td>\n",
       "      <td>3.98</td>\n",
       "      <td>100.00</td>\n",
       "      <td>37.80</td>\n",
       "      <td>...</td>\n",
       "      <td>-0.46</td>\n",
       "      <td>2.10</td>\n",
       "      <td>432.57</td>\n",
       "      <td>432.57</td>\n",
       "      <td>242.57</td>\n",
       "      <td>8.0</td>\n",
       "      <td>25189.6</td>\n",
       "      <td>7.23</td>\n",
       "      <td>64.06</td>\n",
       "      <td>90.90</td>\n",
       "    </tr>\n",
       "    <tr>\n",
       "      <th>14</th>\n",
       "      <td>2018COL</td>\n",
       "      <td>Colombia</td>\n",
       "      <td>COL</td>\n",
       "      <td>SA</td>\n",
       "      <td>2018</td>\n",
       "      <td>2.56</td>\n",
       "      <td>40.84</td>\n",
       "      <td>2.56</td>\n",
       "      <td>98.50</td>\n",
       "      <td>33.80</td>\n",
       "      <td>...</td>\n",
       "      <td>-10.56</td>\n",
       "      <td>3.13</td>\n",
       "      <td>432.57</td>\n",
       "      <td>432.57</td>\n",
       "      <td>242.57</td>\n",
       "      <td>8.0</td>\n",
       "      <td>25189.6</td>\n",
       "      <td>9.11</td>\n",
       "      <td>64.06</td>\n",
       "      <td>55.33</td>\n",
       "    </tr>\n",
       "    <tr>\n",
       "      <th>15</th>\n",
       "      <td>2018ECU</td>\n",
       "      <td>Ecuador</td>\n",
       "      <td>ECU</td>\n",
       "      <td>SA</td>\n",
       "      <td>2018</td>\n",
       "      <td>1.29</td>\n",
       "      <td>42.97</td>\n",
       "      <td>1.29</td>\n",
       "      <td>98.70</td>\n",
       "      <td>26.80</td>\n",
       "      <td>...</td>\n",
       "      <td>-0.89</td>\n",
       "      <td>0.27</td>\n",
       "      <td>432.57</td>\n",
       "      <td>432.57</td>\n",
       "      <td>242.57</td>\n",
       "      <td>8.0</td>\n",
       "      <td>25189.6</td>\n",
       "      <td>3.53</td>\n",
       "      <td>64.06</td>\n",
       "      <td>47.60</td>\n",
       "    </tr>\n",
       "    <tr>\n",
       "      <th>16</th>\n",
       "      <td>2018HTI</td>\n",
       "      <td>Haiti</td>\n",
       "      <td>HTI</td>\n",
       "      <td>NaN</td>\n",
       "      <td>2018</td>\n",
       "      <td>1.67</td>\n",
       "      <td>13.45</td>\n",
       "      <td>1.67</td>\n",
       "      <td>44.96</td>\n",
       "      <td>30.56</td>\n",
       "      <td>...</td>\n",
       "      <td>0.64</td>\n",
       "      <td>7.93</td>\n",
       "      <td>432.57</td>\n",
       "      <td>432.57</td>\n",
       "      <td>242.57</td>\n",
       "      <td>8.0</td>\n",
       "      <td>25189.6</td>\n",
       "      <td>8.13</td>\n",
       "      <td>64.06</td>\n",
       "      <td>72.54</td>\n",
       "    </tr>\n",
       "    <tr>\n",
       "      <th>17</th>\n",
       "      <td>2018PER</td>\n",
       "      <td>Peru</td>\n",
       "      <td>PER</td>\n",
       "      <td>SA</td>\n",
       "      <td>2018</td>\n",
       "      <td>3.97</td>\n",
       "      <td>31.58</td>\n",
       "      <td>3.98</td>\n",
       "      <td>95.20</td>\n",
       "      <td>31.80</td>\n",
       "      <td>...</td>\n",
       "      <td>4.10</td>\n",
       "      <td>2.19</td>\n",
       "      <td>432.57</td>\n",
       "      <td>432.57</td>\n",
       "      <td>242.57</td>\n",
       "      <td>8.0</td>\n",
       "      <td>25189.6</td>\n",
       "      <td>3.49</td>\n",
       "      <td>64.06</td>\n",
       "      <td>72.54</td>\n",
       "    </tr>\n",
       "    <tr>\n",
       "      <th>18</th>\n",
       "      <td>2018PRY</td>\n",
       "      <td>Paraguay</td>\n",
       "      <td>PRY</td>\n",
       "      <td>SA</td>\n",
       "      <td>2018</td>\n",
       "      <td>3.20</td>\n",
       "      <td>40.64</td>\n",
       "      <td>3.20</td>\n",
       "      <td>99.60</td>\n",
       "      <td>28.70</td>\n",
       "      <td>...</td>\n",
       "      <td>0.48</td>\n",
       "      <td>3.20</td>\n",
       "      <td>432.57</td>\n",
       "      <td>432.57</td>\n",
       "      <td>242.57</td>\n",
       "      <td>8.0</td>\n",
       "      <td>25189.6</td>\n",
       "      <td>6.22</td>\n",
       "      <td>64.06</td>\n",
       "      <td>72.54</td>\n",
       "    </tr>\n",
       "    <tr>\n",
       "      <th>19</th>\n",
       "      <td>2018URY</td>\n",
       "      <td>Uruguay</td>\n",
       "      <td>URY</td>\n",
       "      <td>SA</td>\n",
       "      <td>2018</td>\n",
       "      <td>0.48</td>\n",
       "      <td>39.00</td>\n",
       "      <td>0.48</td>\n",
       "      <td>99.80</td>\n",
       "      <td>34.20</td>\n",
       "      <td>...</td>\n",
       "      <td>3.27</td>\n",
       "      <td>7.96</td>\n",
       "      <td>432.57</td>\n",
       "      <td>432.57</td>\n",
       "      <td>242.57</td>\n",
       "      <td>8.0</td>\n",
       "      <td>25189.6</td>\n",
       "      <td>8.34</td>\n",
       "      <td>64.06</td>\n",
       "      <td>97.45</td>\n",
       "    </tr>\n",
       "    <tr>\n",
       "      <th>20</th>\n",
       "      <td>2019ARG</td>\n",
       "      <td>Argentina</td>\n",
       "      <td>ARG</td>\n",
       "      <td>SA</td>\n",
       "      <td>2019</td>\n",
       "      <td>-2.03</td>\n",
       "      <td>64.91</td>\n",
       "      <td>-2.03</td>\n",
       "      <td>100.00</td>\n",
       "      <td>31.90</td>\n",
       "      <td>...</td>\n",
       "      <td>13.36</td>\n",
       "      <td>53.83</td>\n",
       "      <td>432.57</td>\n",
       "      <td>432.57</td>\n",
       "      <td>242.57</td>\n",
       "      <td>8.0</td>\n",
       "      <td>25189.6</td>\n",
       "      <td>9.84</td>\n",
       "      <td>64.06</td>\n",
       "      <td>95.45</td>\n",
       "    </tr>\n",
       "    <tr>\n",
       "      <th>21</th>\n",
       "      <td>2019BOL</td>\n",
       "      <td>Bolivia</td>\n",
       "      <td>BOL</td>\n",
       "      <td>SA</td>\n",
       "      <td>2019</td>\n",
       "      <td>2.22</td>\n",
       "      <td>35.71</td>\n",
       "      <td>2.22</td>\n",
       "      <td>95.08</td>\n",
       "      <td>24.80</td>\n",
       "      <td>...</td>\n",
       "      <td>-1.68</td>\n",
       "      <td>1.47</td>\n",
       "      <td>432.57</td>\n",
       "      <td>432.57</td>\n",
       "      <td>242.57</td>\n",
       "      <td>8.0</td>\n",
       "      <td>25189.6</td>\n",
       "      <td>3.82</td>\n",
       "      <td>64.06</td>\n",
       "      <td>72.54</td>\n",
       "    </tr>\n",
       "    <tr>\n",
       "      <th>22</th>\n",
       "      <td>2019BRA</td>\n",
       "      <td>Brazil</td>\n",
       "      <td>BRA</td>\n",
       "      <td>SA</td>\n",
       "      <td>2019</td>\n",
       "      <td>1.41</td>\n",
       "      <td>31.12</td>\n",
       "      <td>1.22</td>\n",
       "      <td>99.80</td>\n",
       "      <td>33.80</td>\n",
       "      <td>...</td>\n",
       "      <td>-8.94</td>\n",
       "      <td>4.31</td>\n",
       "      <td>432.57</td>\n",
       "      <td>432.57</td>\n",
       "      <td>242.57</td>\n",
       "      <td>8.0</td>\n",
       "      <td>25189.6</td>\n",
       "      <td>11.93</td>\n",
       "      <td>64.06</td>\n",
       "      <td>55.14</td>\n",
       "    </tr>\n",
       "    <tr>\n",
       "      <th>23</th>\n",
       "      <td>2019CHL</td>\n",
       "      <td>Chile</td>\n",
       "      <td>CHL</td>\n",
       "      <td>SA</td>\n",
       "      <td>2019</td>\n",
       "      <td>0.94</td>\n",
       "      <td>39.00</td>\n",
       "      <td>0.85</td>\n",
       "      <td>100.00</td>\n",
       "      <td>36.60</td>\n",
       "      <td>...</td>\n",
       "      <td>-2.15</td>\n",
       "      <td>2.93</td>\n",
       "      <td>432.57</td>\n",
       "      <td>432.57</td>\n",
       "      <td>242.57</td>\n",
       "      <td>8.0</td>\n",
       "      <td>25189.6</td>\n",
       "      <td>7.29</td>\n",
       "      <td>64.06</td>\n",
       "      <td>93.10</td>\n",
       "    </tr>\n",
       "    <tr>\n",
       "      <th>24</th>\n",
       "      <td>2019COL</td>\n",
       "      <td>Colombia</td>\n",
       "      <td>COL</td>\n",
       "      <td>SA</td>\n",
       "      <td>2019</td>\n",
       "      <td>3.28</td>\n",
       "      <td>43.89</td>\n",
       "      <td>3.19</td>\n",
       "      <td>99.76</td>\n",
       "      <td>33.00</td>\n",
       "      <td>...</td>\n",
       "      <td>-14.15</td>\n",
       "      <td>3.77</td>\n",
       "      <td>432.57</td>\n",
       "      <td>432.57</td>\n",
       "      <td>242.57</td>\n",
       "      <td>8.0</td>\n",
       "      <td>25189.6</td>\n",
       "      <td>9.96</td>\n",
       "      <td>64.06</td>\n",
       "      <td>54.98</td>\n",
       "    </tr>\n",
       "    <tr>\n",
       "      <th>25</th>\n",
       "      <td>2019ECU</td>\n",
       "      <td>Ecuador</td>\n",
       "      <td>ECU</td>\n",
       "      <td>SA</td>\n",
       "      <td>2019</td>\n",
       "      <td>0.01</td>\n",
       "      <td>49.44</td>\n",
       "      <td>0.01</td>\n",
       "      <td>99.09</td>\n",
       "      <td>26.60</td>\n",
       "      <td>...</td>\n",
       "      <td>0.23</td>\n",
       "      <td>-0.07</td>\n",
       "      <td>432.57</td>\n",
       "      <td>432.57</td>\n",
       "      <td>242.57</td>\n",
       "      <td>8.0</td>\n",
       "      <td>25189.6</td>\n",
       "      <td>3.81</td>\n",
       "      <td>64.06</td>\n",
       "      <td>47.95</td>\n",
       "    </tr>\n",
       "    <tr>\n",
       "      <th>26</th>\n",
       "      <td>2019HTI</td>\n",
       "      <td>Haiti</td>\n",
       "      <td>HTI</td>\n",
       "      <td>NaN</td>\n",
       "      <td>2019</td>\n",
       "      <td>-1.68</td>\n",
       "      <td>14.92</td>\n",
       "      <td>-1.69</td>\n",
       "      <td>45.99</td>\n",
       "      <td>30.56</td>\n",
       "      <td>...</td>\n",
       "      <td>0.64</td>\n",
       "      <td>7.93</td>\n",
       "      <td>432.57</td>\n",
       "      <td>432.57</td>\n",
       "      <td>242.57</td>\n",
       "      <td>8.0</td>\n",
       "      <td>25189.6</td>\n",
       "      <td>8.13</td>\n",
       "      <td>64.06</td>\n",
       "      <td>72.54</td>\n",
       "    </tr>\n",
       "    <tr>\n",
       "      <th>27</th>\n",
       "      <td>2019PER</td>\n",
       "      <td>Peru</td>\n",
       "      <td>PER</td>\n",
       "      <td>SA</td>\n",
       "      <td>2019</td>\n",
       "      <td>2.20</td>\n",
       "      <td>29.38</td>\n",
       "      <td>2.15</td>\n",
       "      <td>95.55</td>\n",
       "      <td>32.90</td>\n",
       "      <td>...</td>\n",
       "      <td>3.68</td>\n",
       "      <td>1.90</td>\n",
       "      <td>432.57</td>\n",
       "      <td>432.57</td>\n",
       "      <td>242.57</td>\n",
       "      <td>8.0</td>\n",
       "      <td>25189.6</td>\n",
       "      <td>3.38</td>\n",
       "      <td>64.06</td>\n",
       "      <td>72.54</td>\n",
       "    </tr>\n",
       "    <tr>\n",
       "      <th>28</th>\n",
       "      <td>2019PRY</td>\n",
       "      <td>Paraguay</td>\n",
       "      <td>PRY</td>\n",
       "      <td>SA</td>\n",
       "      <td>2019</td>\n",
       "      <td>-0.40</td>\n",
       "      <td>44.56</td>\n",
       "      <td>-0.40</td>\n",
       "      <td>99.70</td>\n",
       "      <td>27.10</td>\n",
       "      <td>...</td>\n",
       "      <td>0.13</td>\n",
       "      <td>2.81</td>\n",
       "      <td>432.57</td>\n",
       "      <td>432.57</td>\n",
       "      <td>242.57</td>\n",
       "      <td>8.0</td>\n",
       "      <td>25189.6</td>\n",
       "      <td>6.59</td>\n",
       "      <td>64.06</td>\n",
       "      <td>72.54</td>\n",
       "    </tr>\n",
       "    <tr>\n",
       "      <th>29</th>\n",
       "      <td>2019URY</td>\n",
       "      <td>Uruguay</td>\n",
       "      <td>URY</td>\n",
       "      <td>SA</td>\n",
       "      <td>2019</td>\n",
       "      <td>0.35</td>\n",
       "      <td>39.00</td>\n",
       "      <td>0.35</td>\n",
       "      <td>99.90</td>\n",
       "      <td>34.30</td>\n",
       "      <td>...</td>\n",
       "      <td>3.76</td>\n",
       "      <td>8.79</td>\n",
       "      <td>432.57</td>\n",
       "      <td>432.57</td>\n",
       "      <td>242.57</td>\n",
       "      <td>8.0</td>\n",
       "      <td>25189.6</td>\n",
       "      <td>8.88</td>\n",
       "      <td>64.06</td>\n",
       "      <td>102.64</td>\n",
       "    </tr>\n",
       "    <tr>\n",
       "      <th>30</th>\n",
       "      <td>2020ARG</td>\n",
       "      <td>Argentina</td>\n",
       "      <td>ARG</td>\n",
       "      <td>SA</td>\n",
       "      <td>2020</td>\n",
       "      <td>-9.90</td>\n",
       "      <td>66.94</td>\n",
       "      <td>-9.90</td>\n",
       "      <td>100.00</td>\n",
       "      <td>28.30</td>\n",
       "      <td>...</td>\n",
       "      <td>12.39</td>\n",
       "      <td>36.14</td>\n",
       "      <td>432.57</td>\n",
       "      <td>432.57</td>\n",
       "      <td>242.57</td>\n",
       "      <td>8.0</td>\n",
       "      <td>25189.6</td>\n",
       "      <td>11.46</td>\n",
       "      <td>64.06</td>\n",
       "      <td>72.54</td>\n",
       "    </tr>\n",
       "    <tr>\n",
       "      <th>31</th>\n",
       "      <td>2020BOL</td>\n",
       "      <td>Bolivia</td>\n",
       "      <td>BOL</td>\n",
       "      <td>SA</td>\n",
       "      <td>2020</td>\n",
       "      <td>-8.83</td>\n",
       "      <td>42.67</td>\n",
       "      <td>-8.74</td>\n",
       "      <td>97.55</td>\n",
       "      <td>22.40</td>\n",
       "      <td>...</td>\n",
       "      <td>-0.80</td>\n",
       "      <td>0.67</td>\n",
       "      <td>432.57</td>\n",
       "      <td>432.57</td>\n",
       "      <td>242.57</td>\n",
       "      <td>8.0</td>\n",
       "      <td>25189.6</td>\n",
       "      <td>7.90</td>\n",
       "      <td>64.06</td>\n",
       "      <td>72.54</td>\n",
       "    </tr>\n",
       "    <tr>\n",
       "      <th>32</th>\n",
       "      <td>2020BRA</td>\n",
       "      <td>Brazil</td>\n",
       "      <td>BRA</td>\n",
       "      <td>SA</td>\n",
       "      <td>2020</td>\n",
       "      <td>-4.06</td>\n",
       "      <td>38.76</td>\n",
       "      <td>-3.88</td>\n",
       "      <td>100.00</td>\n",
       "      <td>31.90</td>\n",
       "      <td>...</td>\n",
       "      <td>11.43</td>\n",
       "      <td>4.52</td>\n",
       "      <td>432.57</td>\n",
       "      <td>432.57</td>\n",
       "      <td>242.57</td>\n",
       "      <td>8.0</td>\n",
       "      <td>25189.6</td>\n",
       "      <td>13.69</td>\n",
       "      <td>64.06</td>\n",
       "      <td>72.54</td>\n",
       "    </tr>\n",
       "    <tr>\n",
       "      <th>33</th>\n",
       "      <td>2020CHL</td>\n",
       "      <td>Chile</td>\n",
       "      <td>CHL</td>\n",
       "      <td>SA</td>\n",
       "      <td>2020</td>\n",
       "      <td>-5.77</td>\n",
       "      <td>39.00</td>\n",
       "      <td>-6.06</td>\n",
       "      <td>100.00</td>\n",
       "      <td>33.90</td>\n",
       "      <td>...</td>\n",
       "      <td>13.37</td>\n",
       "      <td>2.91</td>\n",
       "      <td>432.57</td>\n",
       "      <td>432.57</td>\n",
       "      <td>242.57</td>\n",
       "      <td>8.0</td>\n",
       "      <td>25189.6</td>\n",
       "      <td>11.18</td>\n",
       "      <td>64.06</td>\n",
       "      <td>72.54</td>\n",
       "    </tr>\n",
       "    <tr>\n",
       "      <th>34</th>\n",
       "      <td>2020COL</td>\n",
       "      <td>Colombia</td>\n",
       "      <td>COL</td>\n",
       "      <td>SA</td>\n",
       "      <td>2020</td>\n",
       "      <td>-6.80</td>\n",
       "      <td>58.31</td>\n",
       "      <td>-7.05</td>\n",
       "      <td>100.00</td>\n",
       "      <td>30.80</td>\n",
       "      <td>...</td>\n",
       "      <td>-13.16</td>\n",
       "      <td>1.59</td>\n",
       "      <td>432.57</td>\n",
       "      <td>432.57</td>\n",
       "      <td>242.57</td>\n",
       "      <td>8.0</td>\n",
       "      <td>25189.6</td>\n",
       "      <td>15.04</td>\n",
       "      <td>64.06</td>\n",
       "      <td>72.54</td>\n",
       "    </tr>\n",
       "    <tr>\n",
       "      <th>35</th>\n",
       "      <td>2020ECU</td>\n",
       "      <td>Ecuador</td>\n",
       "      <td>ECU</td>\n",
       "      <td>SA</td>\n",
       "      <td>2020</td>\n",
       "      <td>-7.75</td>\n",
       "      <td>58.54</td>\n",
       "      <td>-7.79</td>\n",
       "      <td>98.85</td>\n",
       "      <td>24.10</td>\n",
       "      <td>...</td>\n",
       "      <td>2.40</td>\n",
       "      <td>-0.93</td>\n",
       "      <td>432.57</td>\n",
       "      <td>432.57</td>\n",
       "      <td>242.57</td>\n",
       "      <td>8.0</td>\n",
       "      <td>25189.6</td>\n",
       "      <td>6.11</td>\n",
       "      <td>64.06</td>\n",
       "      <td>72.54</td>\n",
       "    </tr>\n",
       "    <tr>\n",
       "      <th>36</th>\n",
       "      <td>2020HTI</td>\n",
       "      <td>Haiti</td>\n",
       "      <td>HTI</td>\n",
       "      <td>NaN</td>\n",
       "      <td>2020</td>\n",
       "      <td>-3.34</td>\n",
       "      <td>15.94</td>\n",
       "      <td>-3.34</td>\n",
       "      <td>46.93</td>\n",
       "      <td>30.56</td>\n",
       "      <td>...</td>\n",
       "      <td>0.64</td>\n",
       "      <td>7.93</td>\n",
       "      <td>432.57</td>\n",
       "      <td>432.57</td>\n",
       "      <td>242.57</td>\n",
       "      <td>8.0</td>\n",
       "      <td>25189.6</td>\n",
       "      <td>8.13</td>\n",
       "      <td>64.06</td>\n",
       "      <td>72.54</td>\n",
       "    </tr>\n",
       "    <tr>\n",
       "      <th>37</th>\n",
       "      <td>2020PER</td>\n",
       "      <td>Peru</td>\n",
       "      <td>PER</td>\n",
       "      <td>SA</td>\n",
       "      <td>2020</td>\n",
       "      <td>-11.15</td>\n",
       "      <td>37.56</td>\n",
       "      <td>-11.02</td>\n",
       "      <td>99.31</td>\n",
       "      <td>28.80</td>\n",
       "      <td>...</td>\n",
       "      <td>3.89</td>\n",
       "      <td>1.97</td>\n",
       "      <td>432.57</td>\n",
       "      <td>432.57</td>\n",
       "      <td>242.57</td>\n",
       "      <td>8.0</td>\n",
       "      <td>25189.6</td>\n",
       "      <td>7.18</td>\n",
       "      <td>64.06</td>\n",
       "      <td>72.54</td>\n",
       "    </tr>\n",
       "    <tr>\n",
       "      <th>38</th>\n",
       "      <td>2020PRY</td>\n",
       "      <td>Paraguay</td>\n",
       "      <td>PRY</td>\n",
       "      <td>SA</td>\n",
       "      <td>2020</td>\n",
       "      <td>-0.57</td>\n",
       "      <td>57.13</td>\n",
       "      <td>-0.82</td>\n",
       "      <td>100.00</td>\n",
       "      <td>24.10</td>\n",
       "      <td>...</td>\n",
       "      <td>1.27</td>\n",
       "      <td>2.17</td>\n",
       "      <td>432.57</td>\n",
       "      <td>432.57</td>\n",
       "      <td>242.57</td>\n",
       "      <td>8.0</td>\n",
       "      <td>25189.6</td>\n",
       "      <td>7.55</td>\n",
       "      <td>64.06</td>\n",
       "      <td>72.54</td>\n",
       "    </tr>\n",
       "  </tbody>\n",
       "</table>\n",
       "<p>39 rows × 38 columns</p>\n",
       "</div>"
      ],
      "text/plain": [
       "         ID    Country Code ContinentCode  Year  \\\n",
       "0   2017ARG  Argentina  ARG            SA  2017   \n",
       "1   2017BOL    Bolivia  BOL            SA  2017   \n",
       "2   2017BRA     Brazil  BRA            SA  2017   \n",
       "3   2017CHL      Chile  CHL            SA  2017   \n",
       "4   2017COL   Colombia  COL            SA  2017   \n",
       "5   2017ECU    Ecuador  ECU            SA  2017   \n",
       "6   2017HTI      Haiti  HTI           NaN  2017   \n",
       "7   2017PER       Peru  PER            SA  2017   \n",
       "8   2017PRY   Paraguay  PRY            SA  2017   \n",
       "9   2017URY    Uruguay  URY            SA  2017   \n",
       "10  2018ARG  Argentina  ARG            SA  2018   \n",
       "11  2018BOL    Bolivia  BOL            SA  2018   \n",
       "12  2018BRA     Brazil  BRA            SA  2018   \n",
       "13  2018CHL      Chile  CHL            SA  2018   \n",
       "14  2018COL   Colombia  COL            SA  2018   \n",
       "15  2018ECU    Ecuador  ECU            SA  2018   \n",
       "16  2018HTI      Haiti  HTI           NaN  2018   \n",
       "17  2018PER       Peru  PER            SA  2018   \n",
       "18  2018PRY   Paraguay  PRY            SA  2018   \n",
       "19  2018URY    Uruguay  URY            SA  2018   \n",
       "20  2019ARG  Argentina  ARG            SA  2019   \n",
       "21  2019BOL    Bolivia  BOL            SA  2019   \n",
       "22  2019BRA     Brazil  BRA            SA  2019   \n",
       "23  2019CHL      Chile  CHL            SA  2019   \n",
       "24  2019COL   Colombia  COL            SA  2019   \n",
       "25  2019ECU    Ecuador  ECU            SA  2019   \n",
       "26  2019HTI      Haiti  HTI           NaN  2019   \n",
       "27  2019PER       Peru  PER            SA  2019   \n",
       "28  2019PRY   Paraguay  PRY            SA  2019   \n",
       "29  2019URY    Uruguay  URY            SA  2019   \n",
       "30  2020ARG  Argentina  ARG            SA  2020   \n",
       "31  2020BOL    Bolivia  BOL            SA  2020   \n",
       "32  2020BRA     Brazil  BRA            SA  2020   \n",
       "33  2020CHL      Chile  CHL            SA  2020   \n",
       "34  2020COL   Colombia  COL            SA  2020   \n",
       "35  2020ECU    Ecuador  ECU            SA  2020   \n",
       "36  2020HTI      Haiti  HTI           NaN  2020   \n",
       "37  2020PER       Peru  PER            SA  2020   \n",
       "38  2020PRY   Paraguay  PRY            SA  2020   \n",
       "\n",
       "    Economic growth: the rate of change of real GDP  \\\n",
       "0                                              2.82   \n",
       "1                                              4.20   \n",
       "2                                              1.32   \n",
       "3                                              1.18   \n",
       "4                                              1.36   \n",
       "5                                              2.37   \n",
       "6                                              2.51   \n",
       "7                                              2.52   \n",
       "8                                              4.81   \n",
       "9                                              1.63   \n",
       "10                                            -2.62   \n",
       "11                                             4.22   \n",
       "12                                             1.78   \n",
       "13                                             3.71   \n",
       "14                                             2.56   \n",
       "15                                             1.29   \n",
       "16                                             1.67   \n",
       "17                                             3.97   \n",
       "18                                             3.20   \n",
       "19                                             0.48   \n",
       "20                                            -2.03   \n",
       "21                                             2.22   \n",
       "22                                             1.41   \n",
       "23                                             0.94   \n",
       "24                                             3.28   \n",
       "25                                             0.01   \n",
       "26                                            -1.68   \n",
       "27                                             2.20   \n",
       "28                                            -0.40   \n",
       "29                                             0.35   \n",
       "30                                            -9.90   \n",
       "31                                            -8.83   \n",
       "32                                            -4.06   \n",
       "33                                            -5.77   \n",
       "34                                            -6.80   \n",
       "35                                            -7.75   \n",
       "36                                            -3.34   \n",
       "37                                           -11.15   \n",
       "38                                            -0.57   \n",
       "\n",
       "    External debt, percent of Gross National Income  Economic growth forecast  \\\n",
       "0                                             36.02                      2.82   \n",
       "1                                             35.69                      4.20   \n",
       "2                                             26.82                      1.32   \n",
       "3                                             39.00                      1.31   \n",
       "4                                             41.08                      1.36   \n",
       "5                                             40.41                      2.37   \n",
       "6                                             14.38                      2.51   \n",
       "7                                             33.58                      2.52   \n",
       "8                                             42.24                      4.81   \n",
       "9                                             39.00                      1.63   \n",
       "10                                            54.89                     -2.62   \n",
       "11                                            33.70                      4.22   \n",
       "12                                            29.93                      1.78   \n",
       "13                                            39.00                      3.98   \n",
       "14                                            40.84                      2.56   \n",
       "15                                            42.97                      1.29   \n",
       "16                                            13.45                      1.67   \n",
       "17                                            31.58                      3.98   \n",
       "18                                            40.64                      3.20   \n",
       "19                                            39.00                      0.48   \n",
       "20                                            64.91                     -2.03   \n",
       "21                                            35.71                      2.22   \n",
       "22                                            31.12                      1.22   \n",
       "23                                            39.00                      0.85   \n",
       "24                                            43.89                      3.19   \n",
       "25                                            49.44                      0.01   \n",
       "26                                            14.92                     -1.69   \n",
       "27                                            29.38                      2.15   \n",
       "28                                            44.56                     -0.40   \n",
       "29                                            39.00                      0.35   \n",
       "30                                            66.94                     -9.90   \n",
       "31                                            42.67                     -8.74   \n",
       "32                                            38.76                     -3.88   \n",
       "33                                            39.00                     -6.06   \n",
       "34                                            58.31                     -7.05   \n",
       "35                                            58.54                     -7.79   \n",
       "36                                            15.94                     -3.34   \n",
       "37                                            37.56                    -11.02   \n",
       "38                                            57.13                     -0.82   \n",
       "\n",
       "    Access to electricity, percent of the population  \\\n",
       "0                                             100.00   \n",
       "1                                              91.80   \n",
       "2                                              99.80   \n",
       "3                                              99.70   \n",
       "4                                              98.50   \n",
       "5                                              99.20   \n",
       "6                                              43.75   \n",
       "7                                              94.80   \n",
       "8                                              99.30   \n",
       "9                                              99.80   \n",
       "10                                             99.99   \n",
       "11                                             92.80   \n",
       "12                                             99.70   \n",
       "13                                            100.00   \n",
       "14                                             98.50   \n",
       "15                                             98.70   \n",
       "16                                             44.96   \n",
       "17                                             95.20   \n",
       "18                                             99.60   \n",
       "19                                             99.80   \n",
       "20                                            100.00   \n",
       "21                                             95.08   \n",
       "22                                             99.80   \n",
       "23                                            100.00   \n",
       "24                                             99.76   \n",
       "25                                             99.09   \n",
       "26                                             45.99   \n",
       "27                                             95.55   \n",
       "28                                             99.70   \n",
       "29                                             99.90   \n",
       "30                                            100.00   \n",
       "31                                             97.55   \n",
       "32                                            100.00   \n",
       "33                                            100.00   \n",
       "34                                            100.00   \n",
       "35                                             98.85   \n",
       "36                                             46.93   \n",
       "37                                             99.31   \n",
       "38                                            100.00   \n",
       "\n",
       "    Innovations index (0-100)  ...  Trade balance, billion USD  \\\n",
       "0                       32.00  ...                      -15.14   \n",
       "1                       25.60  ...                       -2.17   \n",
       "2                       33.10  ...                       19.00   \n",
       "3                       38.70  ...                        3.53   \n",
       "4                       34.80  ...                       -8.76   \n",
       "5                       29.10  ...                       -0.49   \n",
       "6                       30.56  ...                        0.64   \n",
       "7                       32.90  ...                        5.27   \n",
       "8                       30.30  ...                        1.60   \n",
       "9                       34.50  ...                        3.50   \n",
       "10                      30.70  ...                       -9.68   \n",
       "11                      22.90  ...                       -1.99   \n",
       "12                      33.40  ...                        7.38   \n",
       "13                      37.80  ...                       -0.46   \n",
       "14                      33.80  ...                      -10.56   \n",
       "15                      26.80  ...                       -0.89   \n",
       "16                      30.56  ...                        0.64   \n",
       "17                      31.80  ...                        4.10   \n",
       "18                      28.70  ...                        0.48   \n",
       "19                      34.20  ...                        3.27   \n",
       "20                      31.90  ...                       13.36   \n",
       "21                      24.80  ...                       -1.68   \n",
       "22                      33.80  ...                       -8.94   \n",
       "23                      36.60  ...                       -2.15   \n",
       "24                      33.00  ...                      -14.15   \n",
       "25                      26.60  ...                        0.23   \n",
       "26                      30.56  ...                        0.64   \n",
       "27                      32.90  ...                        3.68   \n",
       "28                      27.10  ...                        0.13   \n",
       "29                      34.30  ...                        3.76   \n",
       "30                      28.30  ...                       12.39   \n",
       "31                      22.40  ...                       -0.80   \n",
       "32                      31.90  ...                       11.43   \n",
       "33                      33.90  ...                       13.37   \n",
       "34                      30.80  ...                      -13.16   \n",
       "35                      24.10  ...                        2.40   \n",
       "36                      30.56  ...                        0.64   \n",
       "37                      28.80  ...                        3.89   \n",
       "38                      24.10  ...                        1.27   \n",
       "\n",
       "    Inflation forecast  Kidnappings per 100,000 people  \\\n",
       "0                24.80                          920.00   \n",
       "1                 2.72                          432.57   \n",
       "2                 2.95                          432.57   \n",
       "3                 2.25                          633.00   \n",
       "4                 4.06                          244.00   \n",
       "5                -0.20                          457.00   \n",
       "6                 7.93                          432.57   \n",
       "7                 1.37                          223.00   \n",
       "8                 4.49                           29.00   \n",
       "9                 6.55                          522.00   \n",
       "10               47.65                          432.57   \n",
       "11                1.51                          432.57   \n",
       "12                3.75                          432.57   \n",
       "13                2.10                          432.57   \n",
       "14                3.13                          432.57   \n",
       "15                0.27                          432.57   \n",
       "16                7.93                          432.57   \n",
       "17                2.19                          432.57   \n",
       "18                3.20                          432.57   \n",
       "19                7.96                          432.57   \n",
       "20               53.83                          432.57   \n",
       "21                1.47                          432.57   \n",
       "22                4.31                          432.57   \n",
       "23                2.93                          432.57   \n",
       "24                3.77                          432.57   \n",
       "25               -0.07                          432.57   \n",
       "26                7.93                          432.57   \n",
       "27                1.90                          432.57   \n",
       "28                2.81                          432.57   \n",
       "29                8.79                          432.57   \n",
       "30               36.14                          432.57   \n",
       "31                0.67                          432.57   \n",
       "32                4.52                          432.57   \n",
       "33                2.91                          432.57   \n",
       "34                1.59                          432.57   \n",
       "35               -0.93                          432.57   \n",
       "36                7.93                          432.57   \n",
       "37                1.97                          432.57   \n",
       "38                2.17                          432.57   \n",
       "\n",
       "    Robberies per 100,000 people  Number of prisoners per 100,000 people  \\\n",
       "0                         920.00                                  193.00   \n",
       "1                         432.57                                  242.57   \n",
       "2                         432.57                                  242.57   \n",
       "3                         633.00                                  231.00   \n",
       "4                         244.00                                  244.00   \n",
       "5                         457.00                                  226.00   \n",
       "6                         432.57                                  242.57   \n",
       "7                         223.00                                  278.00   \n",
       "8                          29.00                                  206.00   \n",
       "9                         522.00                                  320.00   \n",
       "10                        432.57                                  242.57   \n",
       "11                        432.57                                  242.57   \n",
       "12                        432.57                                  242.57   \n",
       "13                        432.57                                  242.57   \n",
       "14                        432.57                                  242.57   \n",
       "15                        432.57                                  242.57   \n",
       "16                        432.57                                  242.57   \n",
       "17                        432.57                                  242.57   \n",
       "18                        432.57                                  242.57   \n",
       "19                        432.57                                  242.57   \n",
       "20                        432.57                                  242.57   \n",
       "21                        432.57                                  242.57   \n",
       "22                        432.57                                  242.57   \n",
       "23                        432.57                                  242.57   \n",
       "24                        432.57                                  242.57   \n",
       "25                        432.57                                  242.57   \n",
       "26                        432.57                                  242.57   \n",
       "27                        432.57                                  242.57   \n",
       "28                        432.57                                  242.57   \n",
       "29                        432.57                                  242.57   \n",
       "30                        432.57                                  242.57   \n",
       "31                        432.57                                  242.57   \n",
       "32                        432.57                                  242.57   \n",
       "33                        432.57                                  242.57   \n",
       "34                        432.57                                  242.57   \n",
       "35                        432.57                                  242.57   \n",
       "36                        432.57                                  242.57   \n",
       "37                        432.57                                  242.57   \n",
       "38                        432.57                                  242.57   \n",
       "\n",
       "    Homicides per 100,000 people  Energia Renovável  \\\n",
       "0                            5.1            25189.6   \n",
       "1                            8.0            25189.6   \n",
       "2                            8.0            25189.6   \n",
       "3                            4.3            25189.6   \n",
       "4                           24.9            25189.6   \n",
       "5                            5.8            25189.6   \n",
       "6                            8.0            25189.6   \n",
       "7                            7.7            25189.6   \n",
       "8                            0.0            25189.6   \n",
       "9                            8.2            25189.6   \n",
       "10                           8.0            25189.6   \n",
       "11                           8.0            25189.6   \n",
       "12                           8.0            25189.6   \n",
       "13                           8.0            25189.6   \n",
       "14                           8.0            25189.6   \n",
       "15                           8.0            25189.6   \n",
       "16                           8.0            25189.6   \n",
       "17                           8.0            25189.6   \n",
       "18                           8.0            25189.6   \n",
       "19                           8.0            25189.6   \n",
       "20                           8.0            25189.6   \n",
       "21                           8.0            25189.6   \n",
       "22                           8.0            25189.6   \n",
       "23                           8.0            25189.6   \n",
       "24                           8.0            25189.6   \n",
       "25                           8.0            25189.6   \n",
       "26                           8.0            25189.6   \n",
       "27                           8.0            25189.6   \n",
       "28                           8.0            25189.6   \n",
       "29                           8.0            25189.6   \n",
       "30                           8.0            25189.6   \n",
       "31                           8.0            25189.6   \n",
       "32                           8.0            25189.6   \n",
       "33                           8.0            25189.6   \n",
       "34                           8.0            25189.6   \n",
       "35                           8.0            25189.6   \n",
       "36                           8.0            25189.6   \n",
       "37                           8.0            25189.6   \n",
       "38                           8.0            25189.6   \n",
       "\n",
       "    Unemployment rate - desemprego  Representatividade Feminina  \\\n",
       "0                             8.35                        57.80   \n",
       "1                             3.65                        68.60   \n",
       "2                            12.82                        64.06   \n",
       "3                             6.96                        64.06   \n",
       "4                             8.87                        66.90   \n",
       "5                             3.84                        70.40   \n",
       "6                             8.13                        64.06   \n",
       "7                             3.69                        56.60   \n",
       "8                             4.61                        64.06   \n",
       "9                             7.89                        64.06   \n",
       "10                            9.22                        64.06   \n",
       "11                            3.52                        64.06   \n",
       "12                           12.33                        64.06   \n",
       "13                            7.23                        64.06   \n",
       "14                            9.11                        64.06   \n",
       "15                            3.53                        64.06   \n",
       "16                            8.13                        64.06   \n",
       "17                            3.49                        64.06   \n",
       "18                            6.22                        64.06   \n",
       "19                            8.34                        64.06   \n",
       "20                            9.84                        64.06   \n",
       "21                            3.82                        64.06   \n",
       "22                           11.93                        64.06   \n",
       "23                            7.29                        64.06   \n",
       "24                            9.96                        64.06   \n",
       "25                            3.81                        64.06   \n",
       "26                            8.13                        64.06   \n",
       "27                            3.38                        64.06   \n",
       "28                            6.59                        64.06   \n",
       "29                            8.88                        64.06   \n",
       "30                           11.46                        64.06   \n",
       "31                            7.90                        64.06   \n",
       "32                           13.69                        64.06   \n",
       "33                           11.18                        64.06   \n",
       "34                           15.04                        64.06   \n",
       "35                            6.11                        64.06   \n",
       "36                            8.13                        64.06   \n",
       "37                            7.18                        64.06   \n",
       "38                            7.55                        64.06   \n",
       "\n",
       "    Tertiary school enrollment, percent of all eligible children  \n",
       "0                                               89.96             \n",
       "1                                               72.54             \n",
       "2                                               51.57             \n",
       "3                                               88.46             \n",
       "4                                               56.43             \n",
       "5                                               72.54             \n",
       "6                                               72.54             \n",
       "7                                               70.74             \n",
       "8                                               72.54             \n",
       "9                                               63.13             \n",
       "10                                              91.60             \n",
       "11                                              72.54             \n",
       "12                                              53.26             \n",
       "13                                              90.90             \n",
       "14                                              55.33             \n",
       "15                                              47.60             \n",
       "16                                              72.54             \n",
       "17                                              72.54             \n",
       "18                                              72.54             \n",
       "19                                              97.45             \n",
       "20                                              95.45             \n",
       "21                                              72.54             \n",
       "22                                              55.14             \n",
       "23                                              93.10             \n",
       "24                                              54.98             \n",
       "25                                              47.95             \n",
       "26                                              72.54             \n",
       "27                                              72.54             \n",
       "28                                              72.54             \n",
       "29                                             102.64             \n",
       "30                                              72.54             \n",
       "31                                              72.54             \n",
       "32                                              72.54             \n",
       "33                                              72.54             \n",
       "34                                              72.54             \n",
       "35                                              72.54             \n",
       "36                                              72.54             \n",
       "37                                              72.54             \n",
       "38                                              72.54             \n",
       "\n",
       "[39 rows x 38 columns]"
      ]
     },
     "execution_count": 114,
     "metadata": {},
     "output_type": "execute_result"
    }
   ],
   "source": [
    "df = pd.read_excel('base modelo.xlsx')\n",
    "df"
   ]
  },
  {
   "cell_type": "code",
   "execution_count": 115,
   "id": "d0eb3e37",
   "metadata": {},
   "outputs": [
    {
     "data": {
      "text/plain": [
       "Index(['ID', 'Country', 'Code', 'ContinentCode', 'Year',\n",
       "       'Economic growth: the rate of change of real GDP',\n",
       "       'External debt, percent of Gross National Income',\n",
       "       'Economic growth forecast',\n",
       "       'Access to electricity, percent of the population',\n",
       "       'Innovations index (0-100)',\n",
       "       'Research and development expenditure, percent of GDP',\n",
       "       'Information technology exports, percent of total goods exports',\n",
       "       'High technology exports',\n",
       "       'High tech exports, percent of manufactured exports',\n",
       "       'Patent applications by residents',\n",
       "       'Gross Domestic Product, billions of U.S. dollars',\n",
       "       'GDP per capita, current U.S. dollars',\n",
       "       'Foreign Direct Investment, percent of GDP',\n",
       "       'Short-term debt, percent of total external debt',\n",
       "       'Short-term external debt, percent of international reserves',\n",
       "       'Government spending as percent of GDP',\n",
       "       'Government spending, billion USD', 'Government debt as percent of GDP',\n",
       "       'Competitiveness - World Economic Forum index (0-100)',\n",
       "       'Cost of starting a business, % of income per capita',\n",
       "       'Human Development Index (0 - 1)',\n",
       "       'Inflation: percent change in the Consumer Price Index',\n",
       "       'Trade balance as percent of GDP', 'Trade balance, billion USD',\n",
       "       'Inflation forecast', 'Kidnappings per 100,000 people',\n",
       "       'Robberies per 100,000 people',\n",
       "       'Number of prisoners per 100,000 people',\n",
       "       'Homicides per 100,000 people', 'Energia Renovável',\n",
       "       'Unemployment rate - desemprego', 'Representatividade Feminina',\n",
       "       'Tertiary school enrollment, percent of all eligible children'],\n",
       "      dtype='object')"
      ]
     },
     "execution_count": 115,
     "metadata": {},
     "output_type": "execute_result"
    }
   ],
   "source": [
    "df.columns"
   ]
  },
  {
   "cell_type": "code",
   "execution_count": 116,
   "id": "22b2862b",
   "metadata": {},
   "outputs": [],
   "source": [
    "todas = ['Innovations index (0-100)',\n",
    "         'Information technology exports, percent of total goods exports',\n",
    "          'GDP per capita, current U.S. dollars',\n",
    "           'Foreign Direct Investment, percent of GDP',\n",
    "          'Competitiveness - World Economic Forum index (0-100)',\n",
    "          'Cost of starting a business, % of income per capita',\n",
    "          'Human Development Index (0 - 1)']\n",
    "\n",
    "var_num = ['Information technology exports, percent of total goods exports',\n",
    "          'GDP per capita, current U.S. dollars',\n",
    "           'Foreign Direct Investment, percent of GDP',\n",
    "          'Competitiveness - World Economic Forum index (0-100)',\n",
    "          'Cost of starting a business, % of income per capita',\n",
    "          'Human Development Index (0 - 1)']\n",
    "\n",
    "var_targ = ['Innovations index (0-100)']"
   ]
  },
  {
   "cell_type": "code",
   "execution_count": 117,
   "id": "43bc9091",
   "metadata": {},
   "outputs": [],
   "source": [
    "features = list(var_num)"
   ]
  },
  {
   "cell_type": "code",
   "execution_count": 118,
   "id": "f6e63469",
   "metadata": {},
   "outputs": [
    {
     "data": {
      "text/plain": [
       "6"
      ]
     },
     "execution_count": 118,
     "metadata": {},
     "output_type": "execute_result"
    }
   ],
   "source": [
    "len(features)"
   ]
  },
  {
   "cell_type": "code",
   "execution_count": 119,
   "id": "1599bbb4",
   "metadata": {},
   "outputs": [],
   "source": [
    "X = df[features]\n",
    "y = df[var_targ]"
   ]
  },
  {
   "cell_type": "code",
   "execution_count": 120,
   "id": "8cc24a8c",
   "metadata": {},
   "outputs": [
    {
     "data": {
      "text/plain": [
       "((39, 6), (39, 1))"
      ]
     },
     "execution_count": 120,
     "metadata": {},
     "output_type": "execute_result"
    }
   ],
   "source": [
    "X.shape, y.shape"
   ]
  },
  {
   "cell_type": "code",
   "execution_count": 121,
   "id": "fd988c4d",
   "metadata": {},
   "outputs": [
    {
     "data": {
      "text/plain": [
       "ContinentCode    4\n",
       "dtype: int64"
      ]
     },
     "execution_count": 121,
     "metadata": {},
     "output_type": "execute_result"
    }
   ],
   "source": [
    "def get_missing_values(pdf):\n",
    "        \"\"\"\n",
    "        Retorna um Pandas Series com as colunas que tem ao\n",
    "        menos um missing value.\n",
    "        \"\"\"\n",
    "        \n",
    "        missing = pdf.isnull().sum()\n",
    "        return missing[missing > 0]\n",
    "    \n",
    "get_missing_values(df)"
   ]
  },
  {
   "cell_type": "markdown",
   "id": "6bb82d9f",
   "metadata": {},
   "source": [
    "# Análise de Correlação entre as principais variáveis"
   ]
  },
  {
   "cell_type": "code",
   "execution_count": 122,
   "id": "e82e225c",
   "metadata": {},
   "outputs": [
    {
     "data": {
      "text/html": [
       "<div>\n",
       "<style scoped>\n",
       "    .dataframe tbody tr th:only-of-type {\n",
       "        vertical-align: middle;\n",
       "    }\n",
       "\n",
       "    .dataframe tbody tr th {\n",
       "        vertical-align: top;\n",
       "    }\n",
       "\n",
       "    .dataframe thead th {\n",
       "        text-align: right;\n",
       "    }\n",
       "</style>\n",
       "<table border=\"1\" class=\"dataframe\">\n",
       "  <thead>\n",
       "    <tr style=\"text-align: right;\">\n",
       "      <th></th>\n",
       "      <th>Innovations index (0-100)</th>\n",
       "      <th>Information technology exports, percent of total goods exports</th>\n",
       "      <th>GDP per capita, current U.S. dollars</th>\n",
       "      <th>Foreign Direct Investment, percent of GDP</th>\n",
       "      <th>Competitiveness - World Economic Forum index (0-100)</th>\n",
       "      <th>Cost of starting a business, % of income per capita</th>\n",
       "      <th>Human Development Index (0 - 1)</th>\n",
       "    </tr>\n",
       "  </thead>\n",
       "  <tbody>\n",
       "    <tr>\n",
       "      <th>Innovations index (0-100)</th>\n",
       "      <td>1.000000</td>\n",
       "      <td>0.530810</td>\n",
       "      <td>0.722786</td>\n",
       "      <td>0.779107</td>\n",
       "      <td>0.641144</td>\n",
       "      <td>-0.584286</td>\n",
       "      <td>0.674479</td>\n",
       "    </tr>\n",
       "    <tr>\n",
       "      <th>Information technology exports, percent of total goods exports</th>\n",
       "      <td>0.530810</td>\n",
       "      <td>1.000000</td>\n",
       "      <td>0.189290</td>\n",
       "      <td>0.568580</td>\n",
       "      <td>0.449955</td>\n",
       "      <td>-0.490662</td>\n",
       "      <td>0.226773</td>\n",
       "    </tr>\n",
       "    <tr>\n",
       "      <th>GDP per capita, current U.S. dollars</th>\n",
       "      <td>0.722786</td>\n",
       "      <td>0.189290</td>\n",
       "      <td>1.000000</td>\n",
       "      <td>0.463872</td>\n",
       "      <td>0.527548</td>\n",
       "      <td>-0.428587</td>\n",
       "      <td>0.810267</td>\n",
       "    </tr>\n",
       "    <tr>\n",
       "      <th>Foreign Direct Investment, percent of GDP</th>\n",
       "      <td>0.779107</td>\n",
       "      <td>0.568580</td>\n",
       "      <td>0.463872</td>\n",
       "      <td>1.000000</td>\n",
       "      <td>0.482916</td>\n",
       "      <td>-0.501028</td>\n",
       "      <td>0.407015</td>\n",
       "    </tr>\n",
       "    <tr>\n",
       "      <th>Competitiveness - World Economic Forum index (0-100)</th>\n",
       "      <td>0.641144</td>\n",
       "      <td>0.449955</td>\n",
       "      <td>0.527548</td>\n",
       "      <td>0.482916</td>\n",
       "      <td>1.000000</td>\n",
       "      <td>-0.558528</td>\n",
       "      <td>0.539187</td>\n",
       "    </tr>\n",
       "    <tr>\n",
       "      <th>Cost of starting a business, % of income per capita</th>\n",
       "      <td>-0.584286</td>\n",
       "      <td>-0.490662</td>\n",
       "      <td>-0.428587</td>\n",
       "      <td>-0.501028</td>\n",
       "      <td>-0.558528</td>\n",
       "      <td>1.000000</td>\n",
       "      <td>-0.592477</td>\n",
       "    </tr>\n",
       "    <tr>\n",
       "      <th>Human Development Index (0 - 1)</th>\n",
       "      <td>0.674479</td>\n",
       "      <td>0.226773</td>\n",
       "      <td>0.810267</td>\n",
       "      <td>0.407015</td>\n",
       "      <td>0.539187</td>\n",
       "      <td>-0.592477</td>\n",
       "      <td>1.000000</td>\n",
       "    </tr>\n",
       "  </tbody>\n",
       "</table>\n",
       "</div>"
      ],
      "text/plain": [
       "                                                    Innovations index (0-100)  \\\n",
       "Innovations index (0-100)                                            1.000000   \n",
       "Information technology exports, percent of tota...                   0.530810   \n",
       "GDP per capita, current U.S. dollars                                 0.722786   \n",
       "Foreign Direct Investment, percent of GDP                            0.779107   \n",
       "Competitiveness - World Economic Forum index (0...                   0.641144   \n",
       "Cost of starting a business, % of income per ca...                  -0.584286   \n",
       "Human Development Index (0 - 1)                                      0.674479   \n",
       "\n",
       "                                                    Information technology exports, percent of total goods exports  \\\n",
       "Innovations index (0-100)                                                                    0.530810                \n",
       "Information technology exports, percent of tota...                                           1.000000                \n",
       "GDP per capita, current U.S. dollars                                                         0.189290                \n",
       "Foreign Direct Investment, percent of GDP                                                    0.568580                \n",
       "Competitiveness - World Economic Forum index (0...                                           0.449955                \n",
       "Cost of starting a business, % of income per ca...                                          -0.490662                \n",
       "Human Development Index (0 - 1)                                                              0.226773                \n",
       "\n",
       "                                                    GDP per capita, current U.S. dollars  \\\n",
       "Innovations index (0-100)                                                       0.722786   \n",
       "Information technology exports, percent of tota...                              0.189290   \n",
       "GDP per capita, current U.S. dollars                                            1.000000   \n",
       "Foreign Direct Investment, percent of GDP                                       0.463872   \n",
       "Competitiveness - World Economic Forum index (0...                              0.527548   \n",
       "Cost of starting a business, % of income per ca...                             -0.428587   \n",
       "Human Development Index (0 - 1)                                                 0.810267   \n",
       "\n",
       "                                                    Foreign Direct Investment, percent of GDP  \\\n",
       "Innovations index (0-100)                                                            0.779107   \n",
       "Information technology exports, percent of tota...                                   0.568580   \n",
       "GDP per capita, current U.S. dollars                                                 0.463872   \n",
       "Foreign Direct Investment, percent of GDP                                            1.000000   \n",
       "Competitiveness - World Economic Forum index (0...                                   0.482916   \n",
       "Cost of starting a business, % of income per ca...                                  -0.501028   \n",
       "Human Development Index (0 - 1)                                                      0.407015   \n",
       "\n",
       "                                                    Competitiveness - World Economic Forum index (0-100)  \\\n",
       "Innovations index (0-100)                                                                    0.641144      \n",
       "Information technology exports, percent of tota...                                           0.449955      \n",
       "GDP per capita, current U.S. dollars                                                         0.527548      \n",
       "Foreign Direct Investment, percent of GDP                                                    0.482916      \n",
       "Competitiveness - World Economic Forum index (0...                                           1.000000      \n",
       "Cost of starting a business, % of income per ca...                                          -0.558528      \n",
       "Human Development Index (0 - 1)                                                              0.539187      \n",
       "\n",
       "                                                    Cost of starting a business, % of income per capita  \\\n",
       "Innovations index (0-100)                                                                   -0.584286     \n",
       "Information technology exports, percent of tota...                                          -0.490662     \n",
       "GDP per capita, current U.S. dollars                                                        -0.428587     \n",
       "Foreign Direct Investment, percent of GDP                                                   -0.501028     \n",
       "Competitiveness - World Economic Forum index (0...                                          -0.558528     \n",
       "Cost of starting a business, % of income per ca...                                           1.000000     \n",
       "Human Development Index (0 - 1)                                                             -0.592477     \n",
       "\n",
       "                                                    Human Development Index (0 - 1)  \n",
       "Innovations index (0-100)                                                  0.674479  \n",
       "Information technology exports, percent of tota...                         0.226773  \n",
       "GDP per capita, current U.S. dollars                                       0.810267  \n",
       "Foreign Direct Investment, percent of GDP                                  0.407015  \n",
       "Competitiveness - World Economic Forum index (0...                         0.539187  \n",
       "Cost of starting a business, % of income per ca...                        -0.592477  \n",
       "Human Development Index (0 - 1)                                            1.000000  "
      ]
     },
     "execution_count": 122,
     "metadata": {},
     "output_type": "execute_result"
    }
   ],
   "source": [
    "corr = df[todas].corr()\n",
    "corr"
   ]
  },
  {
   "cell_type": "code",
   "execution_count": 123,
   "id": "23804687",
   "metadata": {},
   "outputs": [
    {
     "data": {
      "image/png": "[encoded data removed]",
      "text/plain": [
       "<Figure size 792x648 with 2 Axes>"
      ]
     },
     "metadata": {
      "needs_background": "light"
     },
     "output_type": "display_data"
    }
   ],
   "source": [
    "# Generate a mask for the upper triangle\n",
    "mask = np.triu(np.ones_like(corr, dtype=bool))\n",
    "\n",
    "# Set up the matplotlib figure\n",
    "f, ax = plt.subplots(figsize=(11, 9))\n",
    "\n",
    "# Generate a custom diverging colormap\n",
    "cmap = sns.diverging_palette(230, 20, as_cmap=True)\n",
    "\n",
    "sns.heatmap(corr, mask=mask, cmap=cmap, vmax=.3, center=0,\n",
    "            square=True, linewidths=.5, cbar_kws={\"shrink\": .5});"
   ]
  },
  {
   "cell_type": "markdown",
   "id": "dcf776a5",
   "metadata": {},
   "source": [
    "# Divisão do DF em Treino e Teste"
   ]
  },
  {
   "cell_type": "code",
   "execution_count": 124,
   "id": "62a212ae",
   "metadata": {},
   "outputs": [
    {
     "data": {
      "text/plain": [
       "(39, 31, 8, 31, 8)"
      ]
     },
     "execution_count": 124,
     "metadata": {},
     "output_type": "execute_result"
    }
   ],
   "source": [
    "X_train, X_test, y_train, y_test = train_test_split(X, y, test_size = 0.20, random_state = 0)\n",
    "len(X), len(X_train), len(X_test), len(y_train), len(y_test)"
   ]
  },
  {
   "cell_type": "code",
   "execution_count": 125,
   "id": "924d79d4",
   "metadata": {
    "scrolled": true
   },
   "outputs": [
    {
     "data": {
      "text/html": [
       "<div>\n",
       "<style scoped>\n",
       "    .dataframe tbody tr th:only-of-type {\n",
       "        vertical-align: middle;\n",
       "    }\n",
       "\n",
       "    .dataframe tbody tr th {\n",
       "        vertical-align: top;\n",
       "    }\n",
       "\n",
       "    .dataframe thead th {\n",
       "        text-align: right;\n",
       "    }\n",
       "</style>\n",
       "<table border=\"1\" class=\"dataframe\">\n",
       "  <thead>\n",
       "    <tr style=\"text-align: right;\">\n",
       "      <th></th>\n",
       "      <th>Information technology exports, percent of total goods exports</th>\n",
       "      <th>GDP per capita, current U.S. dollars</th>\n",
       "      <th>Foreign Direct Investment, percent of GDP</th>\n",
       "      <th>Competitiveness - World Economic Forum index (0-100)</th>\n",
       "      <th>Cost of starting a business, % of income per capita</th>\n",
       "      <th>Human Development Index (0 - 1)</th>\n",
       "    </tr>\n",
       "  </thead>\n",
       "  <tbody>\n",
       "    <tr>\n",
       "      <th>11</th>\n",
       "      <td>0.08</td>\n",
       "      <td>3548.59</td>\n",
       "      <td>0.75</td>\n",
       "      <td>51.40</td>\n",
       "      <td>39.2</td>\n",
       "      <td>0.703</td>\n",
       "    </tr>\n",
       "    <tr>\n",
       "      <th>27</th>\n",
       "      <td>0.06</td>\n",
       "      <td>7023.08</td>\n",
       "      <td>2.08</td>\n",
       "      <td>61.70</td>\n",
       "      <td>9.4</td>\n",
       "      <td>0.759</td>\n",
       "    </tr>\n",
       "    <tr>\n",
       "      <th>18</th>\n",
       "      <td>0.07</td>\n",
       "      <td>5782.78</td>\n",
       "      <td>0.48</td>\n",
       "      <td>53.40</td>\n",
       "      <td>58.4</td>\n",
       "      <td>0.724</td>\n",
       "    </tr>\n",
       "    <tr>\n",
       "      <th>15</th>\n",
       "      <td>0.08</td>\n",
       "      <td>6295.93</td>\n",
       "      <td>1.29</td>\n",
       "      <td>55.80</td>\n",
       "      <td>33.3</td>\n",
       "      <td>0.758</td>\n",
       "    </tr>\n",
       "    <tr>\n",
       "      <th>2</th>\n",
       "      <td>0.36</td>\n",
       "      <td>9928.68</td>\n",
       "      <td>3.34</td>\n",
       "      <td>59.51</td>\n",
       "      <td>4.8</td>\n",
       "      <td>0.760</td>\n",
       "    </tr>\n",
       "  </tbody>\n",
       "</table>\n",
       "</div>"
      ],
      "text/plain": [
       "    Information technology exports, percent of total goods exports  \\\n",
       "11                                               0.08                \n",
       "27                                               0.06                \n",
       "18                                               0.07                \n",
       "15                                               0.08                \n",
       "2                                                0.36                \n",
       "\n",
       "    GDP per capita, current U.S. dollars  \\\n",
       "11                               3548.59   \n",
       "27                               7023.08   \n",
       "18                               5782.78   \n",
       "15                               6295.93   \n",
       "2                                9928.68   \n",
       "\n",
       "    Foreign Direct Investment, percent of GDP  \\\n",
       "11                                       0.75   \n",
       "27                                       2.08   \n",
       "18                                       0.48   \n",
       "15                                       1.29   \n",
       "2                                        3.34   \n",
       "\n",
       "    Competitiveness - World Economic Forum index (0-100)  \\\n",
       "11                                              51.40      \n",
       "27                                              61.70      \n",
       "18                                              53.40      \n",
       "15                                              55.80      \n",
       "2                                               59.51      \n",
       "\n",
       "    Cost of starting a business, % of income per capita  \\\n",
       "11                                               39.2     \n",
       "27                                                9.4     \n",
       "18                                               58.4     \n",
       "15                                               33.3     \n",
       "2                                                 4.8     \n",
       "\n",
       "    Human Development Index (0 - 1)  \n",
       "11                            0.703  \n",
       "27                            0.759  \n",
       "18                            0.724  \n",
       "15                            0.758  \n",
       "2                             0.760  "
      ]
     },
     "execution_count": 125,
     "metadata": {},
     "output_type": "execute_result"
    }
   ],
   "source": [
    "X_train.head()"
   ]
  },
  {
   "cell_type": "markdown",
   "id": "ac9d972e",
   "metadata": {},
   "source": [
    "# SCALING DOS DADOS"
   ]
  },
  {
   "cell_type": "code",
   "execution_count": 126,
   "id": "850d7a05",
   "metadata": {},
   "outputs": [],
   "source": [
    "from sklearn.feature_selection import mutual_info_classif as MIC\n",
    "from sklearn.preprocessing import MinMaxScaler, StandardScaler"
   ]
  },
  {
   "cell_type": "code",
   "execution_count": 127,
   "id": "ef637ab8",
   "metadata": {},
   "outputs": [],
   "source": [
    "mm_scaler =  MinMaxScaler()\n",
    "X_train = mm_scaler.fit_transform(X_train)"
   ]
  },
  {
   "cell_type": "code",
   "execution_count": 128,
   "id": "07d64ea4",
   "metadata": {
    "scrolled": false
   },
   "outputs": [
    {
     "data": {
      "text/plain": [
       "array([[0.125     , 0.02637822, 0.50394737, 0.        , 0.65529623,\n",
       "        0.02040816],\n",
       "       [0.0625    , 0.24959029, 0.67894737, 0.53926702, 0.12028725,\n",
       "        0.40136054],\n",
       "       [0.09375   , 0.16990955, 0.46842105, 0.10471204, 1.        ,\n",
       "        0.16326531],\n",
       "       [0.125     , 0.20287591, 0.575     , 0.23036649, 0.54937163,\n",
       "        0.39455782],\n",
       "       [1.        , 0.43625509, 0.84473684, 0.42460733, 0.03770197,\n",
       "        0.40816327],\n",
       "       [0.375     , 0.11754563, 0.43947368, 0.42460733, 0.33500898,\n",
       "        0.19047619],\n",
       "       [0.09375   , 0.44574251, 0.59868421, 0.30366492, 0.04129264,\n",
       "        0.88435374],\n",
       "       [0.375     , 0.36910112, 0.66842105, 0.42460733, 0.33500898,\n",
       "        0.47619048],\n",
       "       [0.375     , 0.36910112, 0.66842105, 0.42460733, 0.33500898,\n",
       "        0.47619048],\n",
       "       [0.375     , 0.15995123, 0.55131579, 0.42460733, 0.33500898,\n",
       "        0.40136054],\n",
       "       [0.09375   , 0.16323405, 0.57368421, 0.42460733, 0.99640934,\n",
       "        0.14965986],\n",
       "       [0.75      , 0.81166938, 0.75131579, 0.9895288 , 0.05385996,\n",
       "        1.        ],\n",
       "       [0.21875   , 0.19758035, 0.48421053, 0.42460733, 0.56193896,\n",
       "        0.3877551 ],\n",
       "       [0.125     , 0.24544147, 0.75263158, 0.51832461, 0.08617594,\n",
       "        0.40136054],\n",
       "       [0.53125   , 0.23073493, 0.85      , 0.53403141, 0.20287253,\n",
       "        0.41496599],\n",
       "       [0.875     , 0.23621487, 0.74868421, 0.42460733, 0.33500898,\n",
       "        0.44217687],\n",
       "       [0.15625   , 0.22950982, 0.86710526, 0.42460733, 0.08617594,\n",
       "        0.38095238],\n",
       "       [0.125     , 0.        , 0.        , 0.42460733, 0.33500898,\n",
       "        0.12244898],\n",
       "       [0.21875   , 0.01369214, 0.65526316, 0.42460733, 0.78815081,\n",
       "        0.        ],\n",
       "       [0.375     , 0.36910112, 0.66842105, 0.42460733, 0.33500898,\n",
       "        0.47619048],\n",
       "       [1.        , 0.38631891, 0.94210526, 0.42408377, 0.03590664,\n",
       "        0.41496599],\n",
       "       [0.09375   , 0.34997723, 0.54078947, 0.42460733, 0.33500898,\n",
       "        0.98639456],\n",
       "       [0.71875   , 0.2107579 , 0.975     , 0.59162304, 0.20466786,\n",
       "        0.41496599],\n",
       "       [0.375     , 0.36910112, 0.66842105, 0.42460733, 0.33500898,\n",
       "        0.47619048],\n",
       "       [0.875     , 0.74274486, 1.        , 1.        , 0.        ,\n",
       "        1.        ],\n",
       "       [0.        , 0.02660179, 0.33552632, 0.02094241, 0.62118492,\n",
       "        0.02040816],\n",
       "       [0.21875   , 1.        , 0.72368421, 0.59162304, 0.3572711 ,\n",
       "        0.73469388],\n",
       "       [0.28125   , 0.99916677, 0.95526316, 0.42460733, 0.35547576,\n",
       "        0.72789116],\n",
       "       [0.375     , 0.19141237, 0.45263158, 0.42460733, 0.33500898,\n",
       "        0.52380952],\n",
       "       [1.        , 0.75964723, 0.69736842, 0.42460733, 0.05745063,\n",
       "        0.98639456],\n",
       "       [0.21875   , 0.73719297, 0.64078947, 0.42460733, 0.13824057,\n",
       "        0.89795918]])"
      ]
     },
     "execution_count": 128,
     "metadata": {},
     "output_type": "execute_result"
    }
   ],
   "source": [
    "X_train"
   ]
  },
  {
   "cell_type": "code",
   "execution_count": 129,
   "id": "099806a7",
   "metadata": {},
   "outputs": [],
   "source": [
    "X_test = mm_scaler.transform(X_test)"
   ]
  },
  {
   "cell_type": "code",
   "execution_count": 130,
   "id": "5313ceac",
   "metadata": {},
   "outputs": [],
   "source": [
    "sc = StandardScaler()\n",
    "X_train = sc.fit_transform(X_train)\n",
    "X_test = sc.transform(X_test)"
   ]
  },
  {
   "cell_type": "markdown",
   "id": "a92d3a5c",
   "metadata": {},
   "source": [
    "### Modelo: Linear Regression"
   ]
  },
  {
   "cell_type": "code",
   "execution_count": 165,
   "id": "c4d51d86",
   "metadata": {},
   "outputs": [
    {
     "name": "stdout",
     "output_type": "stream",
     "text": [
      "0.8039111579030407\n"
     ]
    }
   ],
   "source": [
    "regr = LinearRegression(normalize=True)\n",
    "regr.fit(X_train, y_train)\n",
    "print(regr.score(X_train, y_train))"
   ]
  },
  {
   "cell_type": "code",
   "execution_count": 132,
   "id": "50a6b0da",
   "metadata": {},
   "outputs": [],
   "source": [
    "y_pred_LR = regr.predict(X_train)"
   ]
  },
  {
   "cell_type": "code",
   "execution_count": 166,
   "id": "c9be106a",
   "metadata": {},
   "outputs": [
    {
     "data": {
      "text/plain": [
       "1.8267297905142759"
      ]
     },
     "execution_count": 166,
     "metadata": {},
     "output_type": "execute_result"
    }
   ],
   "source": [
    "#Erro quadrático médio (parâmetro squared = falso)\n",
    "mean_squared_error(y_true = y_train, y_pred = y_pred_LR, squared=False)"
   ]
  },
  {
   "cell_type": "code",
   "execution_count": 134,
   "id": "0cc30d06",
   "metadata": {
    "scrolled": true
   },
   "outputs": [
    {
     "data": {
      "text/html": [
       "<div>\n",
       "<style scoped>\n",
       "    .dataframe tbody tr th:only-of-type {\n",
       "        vertical-align: middle;\n",
       "    }\n",
       "\n",
       "    .dataframe tbody tr th {\n",
       "        vertical-align: top;\n",
       "    }\n",
       "\n",
       "    .dataframe thead th {\n",
       "        text-align: right;\n",
       "    }\n",
       "</style>\n",
       "<table border=\"1\" class=\"dataframe\">\n",
       "  <thead>\n",
       "    <tr style=\"text-align: right;\">\n",
       "      <th></th>\n",
       "      <th>Innovations index (0-100)</th>\n",
       "    </tr>\n",
       "  </thead>\n",
       "  <tbody>\n",
       "    <tr>\n",
       "      <th>count</th>\n",
       "      <td>31.000000</td>\n",
       "    </tr>\n",
       "    <tr>\n",
       "      <th>mean</th>\n",
       "      <td>30.536774</td>\n",
       "    </tr>\n",
       "    <tr>\n",
       "      <th>std</th>\n",
       "      <td>4.193417</td>\n",
       "    </tr>\n",
       "    <tr>\n",
       "      <th>min</th>\n",
       "      <td>22.400000</td>\n",
       "    </tr>\n",
       "    <tr>\n",
       "      <th>25%</th>\n",
       "      <td>28.500000</td>\n",
       "    </tr>\n",
       "    <tr>\n",
       "      <th>50%</th>\n",
       "      <td>30.560000</td>\n",
       "    </tr>\n",
       "    <tr>\n",
       "      <th>75%</th>\n",
       "      <td>33.050000</td>\n",
       "    </tr>\n",
       "    <tr>\n",
       "      <th>max</th>\n",
       "      <td>38.700000</td>\n",
       "    </tr>\n",
       "  </tbody>\n",
       "</table>\n",
       "</div>"
      ],
      "text/plain": [
       "       Innovations index (0-100)\n",
       "count                  31.000000\n",
       "mean                   30.536774\n",
       "std                     4.193417\n",
       "min                    22.400000\n",
       "25%                    28.500000\n",
       "50%                    30.560000\n",
       "75%                    33.050000\n",
       "max                    38.700000"
      ]
     },
     "execution_count": 134,
     "metadata": {},
     "output_type": "execute_result"
    }
   ],
   "source": [
    "y_train.describe()"
   ]
  },
  {
   "cell_type": "code",
   "execution_count": 135,
   "id": "8bac5a41",
   "metadata": {},
   "outputs": [
    {
     "data": {
      "text/plain": [
       "array([0.59807053, 0.49715508, 0.71193669, 0.11892365, 0.02152319])"
      ]
     },
     "execution_count": 135,
     "metadata": {},
     "output_type": "execute_result"
    }
   ],
   "source": [
    "#Cross Validation\n",
    "scores = cross_val_score(regr, X_train, y_train, scoring='r2', cv=5)\n",
    "scores"
   ]
  },
  {
   "cell_type": "code",
   "execution_count": 162,
   "id": "a7b5a89d",
   "metadata": {},
   "outputs": [
    {
     "data": {
      "text/plain": [
       "array([[ 0.46882335,  1.17035141,  1.69026295,  0.42032713, -0.04720462,\n",
       "         0.81750788]])"
      ]
     },
     "execution_count": 162,
     "metadata": {},
     "output_type": "execute_result"
    }
   ],
   "source": [
    "regr.coef_"
   ]
  },
  {
   "cell_type": "code",
   "execution_count": 136,
   "id": "35eb9e5d",
   "metadata": {},
   "outputs": [],
   "source": [
    "explainer = shap.Explainer(regr.predict, X_test)\n",
    "shap_values = explainer(X_train)"
   ]
  },
  {
   "cell_type": "code",
   "execution_count": 137,
   "id": "446722bb",
   "metadata": {},
   "outputs": [
    {
     "data": {
      "image/png": "[encoded data removed]",
      "text/plain": [
       "<Figure size 576x280.8 with 1 Axes>"
      ]
     },
     "metadata": {
      "needs_background": "light"
     },
     "output_type": "display_data"
    }
   ],
   "source": [
    "plt.figure(figsize = (15,8))\n",
    "ax = shap.summary_plot(shap_values, \n",
    "                       df[var_num],\n",
    "                       plot_type='bar')\n",
    "plt.show()"
   ]
  },
  {
   "cell_type": "markdown",
   "id": "1a761db8",
   "metadata": {},
   "source": [
    "### Modelo: regressão com RidgeCV"
   ]
  },
  {
   "cell_type": "code",
   "execution_count": 138,
   "id": "9b5b724d",
   "metadata": {},
   "outputs": [
    {
     "data": {
      "text/plain": [
       "0.8038490981328353"
      ]
     },
     "execution_count": 138,
     "metadata": {},
     "output_type": "execute_result"
    }
   ],
   "source": [
    "clf = RidgeCV(alphas=[0.01, 0.05, 0.1, 0.5], cv = 10 ).fit(X_train, y_train)\n",
    "clf.score(X_train, y_train)"
   ]
  },
  {
   "cell_type": "code",
   "execution_count": 139,
   "id": "3639b172",
   "metadata": {
    "scrolled": true
   },
   "outputs": [
    {
     "data": {
      "text/plain": [
       "array([[32.85500252],\n",
       "       [26.44479061],\n",
       "       [34.40536868],\n",
       "       [34.88242861],\n",
       "       [31.83766484],\n",
       "       [27.57472678],\n",
       "       [32.2466258 ],\n",
       "       [33.49565159]])"
      ]
     },
     "execution_count": 139,
     "metadata": {},
     "output_type": "execute_result"
    }
   ],
   "source": [
    "y_pred_test_ridg = clf.predict(X_test)\n",
    "y_pred_test_ridg"
   ]
  },
  {
   "cell_type": "code",
   "execution_count": 140,
   "id": "0b9f552d",
   "metadata": {},
   "outputs": [
    {
     "data": {
      "text/plain": [
       "1.1011416245487198"
      ]
     },
     "execution_count": 140,
     "metadata": {},
     "output_type": "execute_result"
    }
   ],
   "source": [
    "mean_squared_error(y_true = y_test, y_pred = y_pred_test_ridg, squared=False)"
   ]
  },
  {
   "cell_type": "code",
   "execution_count": 141,
   "id": "11bcdeab",
   "metadata": {},
   "outputs": [
    {
     "data": {
      "image/png": "[encoded data removed]",
      "text/plain": [
       "<Figure size 576x280.8 with 1 Axes>"
      ]
     },
     "metadata": {
      "needs_background": "light"
     },
     "output_type": "display_data"
    }
   ],
   "source": [
    "explainer_ridg = shap.Explainer(clf.predict, X_test)\n",
    "shap_values_ridg = explainer_ridg(X_train)\n",
    "\n",
    "plt.figure(figsize = (15,8))\n",
    "ax = shap.summary_plot(shap_values_ridg, \n",
    "                       df[var_num],\n",
    "                       plot_type='bar')\n",
    "plt.show()"
   ]
  },
  {
   "cell_type": "code",
   "execution_count": 178,
   "id": "525bde6d",
   "metadata": {},
   "outputs": [],
   "source": [
    "P = clf.predict( X_test)"
   ]
  },
  {
   "cell_type": "code",
   "execution_count": 179,
   "id": "3aa837b0",
   "metadata": {},
   "outputs": [
    {
     "data": {
      "text/plain": [
       "array([[32.85500252],\n",
       "       [26.44479061],\n",
       "       [34.40536868],\n",
       "       [34.88242861],\n",
       "       [31.83766484],\n",
       "       [27.57472678],\n",
       "       [32.2466258 ],\n",
       "       [33.49565159]])"
      ]
     },
     "execution_count": 179,
     "metadata": {},
     "output_type": "execute_result"
    }
   ],
   "source": [
    "P"
   ]
  },
  {
   "cell_type": "code",
   "execution_count": 183,
   "id": "222f4827",
   "metadata": {},
   "outputs": [
    {
     "data": {
      "text/plain": [
       "1.1011416245487198"
      ]
     },
     "execution_count": 183,
     "metadata": {},
     "output_type": "execute_result"
    }
   ],
   "source": [
    "mean_squared_error(y_test, P, squared=False)"
   ]
  },
  {
   "cell_type": "markdown",
   "id": "5adab1b2",
   "metadata": {},
   "source": [
    "### Modelo: SGDRegressor"
   ]
  },
  {
   "cell_type": "code",
   "execution_count": 142,
   "id": "196a9965",
   "metadata": {},
   "outputs": [],
   "source": [
    "linreg_model = SGDRegressor(loss='squared_loss',\n",
    "                            learning_rate='constant',\n",
    "                            max_iter=10,\n",
    "                            eta0=0.01,\n",
    "                            verbose=1,\n",
    "                            tol=None,\n",
    "                            random_state=0)"
   ]
  },
  {
   "cell_type": "code",
   "execution_count": 143,
   "id": "8e6516f0",
   "metadata": {},
   "outputs": [
    {
     "name": "stdout",
     "output_type": "stream",
     "text": [
      "-- Epoch 1\n",
      "Norm: 2.26, NNZs: 6, Bias: 8.269330, T: 31, Avg. loss: 369.678553\n",
      "Total training time: 0.00 seconds.\n",
      "-- Epoch 2\n",
      "Norm: 2.82, NNZs: 6, Bias: 14.326776, T: 62, Avg. loss: 196.372766\n",
      "Total training time: 0.00 seconds.\n",
      "-- Epoch 3\n",
      "Norm: 1.74, NNZs: 6, Bias: 18.711737, T: 93, Avg. loss: 105.109846\n",
      "Total training time: 0.00 seconds.\n",
      "-- Epoch 4\n",
      "Norm: 1.80, NNZs: 6, Bias: 21.972668, T: 124, Avg. loss: 57.586377\n",
      "Total training time: 0.00 seconds.\n",
      "-- Epoch 5\n",
      "Norm: 2.05, NNZs: 6, Bias: 24.296757, T: 155, Avg. loss: 31.217339\n",
      "Total training time: 0.00 seconds.\n",
      "-- Epoch 6\n",
      "Norm: 1.97, NNZs: 6, Bias: 26.009010, T: 186, Avg. loss: 17.330588\n",
      "Total training time: 0.00 seconds.\n",
      "-- Epoch 7\n",
      "Norm: 2.07, NNZs: 6, Bias: 27.260660, T: 217, Avg. loss: 10.008551\n",
      "Total training time: 0.00 seconds.\n",
      "-- Epoch 8\n",
      "Norm: 2.15, NNZs: 6, Bias: 28.176857, T: 248, Avg. loss: 6.074708\n",
      "Total training time: 0.00 seconds.\n",
      "-- Epoch 9\n",
      "Norm: 2.13, NNZs: 6, Bias: 28.831446, T: 279, Avg. loss: 4.014056\n",
      "Total training time: 0.00 seconds.\n",
      "-- Epoch 10\n",
      "Norm: 2.18, NNZs: 6, Bias: 29.314763, T: 310, Avg. loss: 2.954662\n",
      "Total training time: 0.00 seconds.\n"
     ]
    },
    {
     "name": "stderr",
     "output_type": "stream",
     "text": [
      "A column-vector y was passed when a 1d array was expected. Please change the shape of y to (n_samples, ), for example using ravel().\n"
     ]
    },
    {
     "data": {
      "text/plain": [
       "SGDRegressor(learning_rate='constant', max_iter=10, random_state=0, tol=None,\n",
       "             verbose=1)"
      ]
     },
     "execution_count": 143,
     "metadata": {},
     "output_type": "execute_result"
    }
   ],
   "source": [
    "linreg_model.fit(X_train, y_train)"
   ]
  },
  {
   "cell_type": "code",
   "execution_count": 144,
   "id": "729610cf",
   "metadata": {},
   "outputs": [],
   "source": [
    "y_pred_SGDR = linreg_model.predict(X_test)"
   ]
  },
  {
   "cell_type": "code",
   "execution_count": 145,
   "id": "fdd99253",
   "metadata": {},
   "outputs": [
    {
     "name": "stdout",
     "output_type": "stream",
     "text": [
      "RMSE = 1.5693147649435306\n"
     ]
    }
   ],
   "source": [
    "print(f'RMSE = {mean_squared_error(y_test, y_pred_SGDR, squared=False)}')"
   ]
  },
  {
   "cell_type": "code",
   "execution_count": 146,
   "id": "58695661",
   "metadata": {},
   "outputs": [],
   "source": [
    "explainer_SGDR = shap.Explainer(linreg_model.predict, X_test)\n",
    "shap_values_SGDR = explainer_SGDR(X_train)"
   ]
  },
  {
   "cell_type": "code",
   "execution_count": 147,
   "id": "30c71a21",
   "metadata": {},
   "outputs": [
    {
     "data": {
      "image/png": "[encoded data removed]",
      "text/plain": [
       "<Figure size 576x280.8 with 1 Axes>"
      ]
     },
     "metadata": {
      "needs_background": "light"
     },
     "output_type": "display_data"
    }
   ],
   "source": [
    "plt.figure(figsize = (15,8))\n",
    "ax = shap.summary_plot(shap_values_SGDR, \n",
    "                       df[var_num],\n",
    "                       plot_type='bar',\n",
    "                      title='Feature Importance')\n",
    "plt.show()"
   ]
  },
  {
   "cell_type": "markdown",
   "id": "1df56044",
   "metadata": {},
   "source": [
    "# COMPARAÇÃO ENTRE OS MODELOS"
   ]
  },
  {
   "cell_type": "markdown",
   "id": "158cdf78",
   "metadata": {},
   "source": [
    "## RMSE"
   ]
  },
  {
   "cell_type": "code",
   "execution_count": 148,
   "id": "988c4fd7",
   "metadata": {},
   "outputs": [
    {
     "name": "stdout",
     "output_type": "stream",
     "text": [
      "Modelo: Linear Regression - RMSE = 1.8267297905142759\n",
      "Modelo: Ridge - RMSE = 1.1011416245487198\n",
      "Modelo: SGDR - RMSE = 1.5693147649435306\n"
     ]
    }
   ],
   "source": [
    "print(f'Modelo: Linear Regression - RMSE = {mean_squared_error(y_true = y_train, y_pred = y_pred_LR, squared=False)}')\n",
    "print(f'Modelo: Ridge - RMSE = {mean_squared_error(y_true =y_test, y_pred = y_pred_test_ridg, squared=False)}')\n",
    "print(f'Modelo: SGDR - RMSE = {mean_squared_error(y_true = y_test, y_pred = y_pred_SGDR, squared=False)}')\n"
   ]
  },
  {
   "cell_type": "markdown",
   "id": "467090a5",
   "metadata": {},
   "source": [
    "## R²"
   ]
  },
  {
   "cell_type": "code",
   "execution_count": 149,
   "id": "78e5a5a1",
   "metadata": {},
   "outputs": [
    {
     "name": "stdout",
     "output_type": "stream",
     "text": [
      "Modelo: Linear Regression - R² = 0.8039111579030406\n",
      "Modelo: Ridge - R² = 0.8038490981328353\n",
      "Modelo: SGDR - R² = 0.7144049683375016\n"
     ]
    }
   ],
   "source": [
    "print(f'Modelo: Linear Regression - R² = {(regr.score(X_train, y_train))}')\n",
    "print(f'Modelo: Ridge - R² = {(clf.score(X_train, y_train))}')\n",
    "print(f'Modelo: SGDR - R² = {(linreg_model.score(X_train, y_train))}')"
   ]
  },
  {
   "cell_type": "markdown",
   "id": "749bdde1",
   "metadata": {},
   "source": [
    "# Coeficientes"
   ]
  },
  {
   "cell_type": "code",
   "execution_count": 170,
   "id": "b4a26e04",
   "metadata": {},
   "outputs": [
    {
     "data": {
      "text/plain": [
       "array([[ 0.46882335,  1.17035141,  1.69026295,  0.42032713, -0.04720462,\n",
       "         0.81750788]])"
      ]
     },
     "execution_count": 170,
     "metadata": {},
     "output_type": "execute_result"
    }
   ],
   "source": [
    "regr.coef_"
   ]
  },
  {
   "cell_type": "code",
   "execution_count": 173,
   "id": "983eaece",
   "metadata": {},
   "outputs": [
    {
     "data": {
      "text/plain": [
       "array([30.53677419])"
      ]
     },
     "execution_count": 173,
     "metadata": {},
     "output_type": "execute_result"
    }
   ],
   "source": [
    "regr.intercept_"
   ]
  },
  {
   "cell_type": "code",
   "execution_count": 171,
   "id": "8f8cd1b8",
   "metadata": {},
   "outputs": [
    {
     "data": {
      "text/plain": [
       "array([[ 0.47307262,  1.16523152,  1.65641187,  0.42737774, -0.06606547,\n",
       "         0.80545167]])"
      ]
     },
     "execution_count": 171,
     "metadata": {},
     "output_type": "execute_result"
    }
   ],
   "source": [
    "clf.coef_"
   ]
  },
  {
   "cell_type": "code",
   "execution_count": 174,
   "id": "41ece7e3",
   "metadata": {
    "scrolled": true
   },
   "outputs": [
    {
     "data": {
      "text/plain": [
       "array([30.53677419])"
      ]
     },
     "execution_count": 174,
     "metadata": {},
     "output_type": "execute_result"
    }
   ],
   "source": [
    "clf.intercept_"
   ]
  },
  {
   "cell_type": "code",
   "execution_count": 172,
   "id": "f78c8e23",
   "metadata": {
    "scrolled": false
   },
   "outputs": [
    {
     "data": {
      "text/plain": [
       "array([ 0.50074822,  1.22105438,  1.48469292,  0.47003019, -0.19066055,\n",
       "        0.73890199])"
      ]
     },
     "execution_count": 172,
     "metadata": {},
     "output_type": "execute_result"
    }
   ],
   "source": [
    "linreg_model.coef_"
   ]
  },
  {
   "cell_type": "code",
   "execution_count": 176,
   "id": "4b34cfcd",
   "metadata": {},
   "outputs": [
    {
     "data": {
      "text/plain": [
       "array([29.31476333])"
      ]
     },
     "execution_count": 176,
     "metadata": {},
     "output_type": "execute_result"
    }
   ],
   "source": [
    "linreg_model.intercept_"
   ]
  },
  {
   "cell_type": "code",
   "execution_count": null,
   "id": "f1275d58",
   "metadata": {},
   "outputs": [],
   "source": []
  },
  {
   "cell_type": "code",
   "execution_count": 184,
   "id": "3bf859e1",
   "metadata": {},
   "outputs": [
    {
     "data": {
      "text/plain": [
       "1.1011416245487198"
      ]
     },
     "execution_count": 184,
     "metadata": {},
     "output_type": "execute_result"
    }
   ],
   "source": [
    "P = clf.predict( X_test)\n",
    "mean_squared_error(y_test, P, squared=False)"
   ]
  },
  {
   "cell_type": "code",
   "execution_count": 185,
   "id": "0c5a9997",
   "metadata": {},
   "outputs": [
    {
     "data": {
      "text/plain": [
       "1.1022799070643203"
      ]
     },
     "execution_count": 185,
     "metadata": {},
     "output_type": "execute_result"
    }
   ],
   "source": [
    "P1 = regr.predict( X_test)\n",
    "mean_squared_error(y_test, P1, squared=False)"
   ]
  },
  {
   "cell_type": "code",
   "execution_count": 186,
   "id": "8b98f32b",
   "metadata": {},
   "outputs": [
    {
     "data": {
      "text/plain": [
       "1.5693147649435306"
      ]
     },
     "execution_count": 186,
     "metadata": {},
     "output_type": "execute_result"
    }
   ],
   "source": [
    "P2 = linreg_model.predict( X_test)\n",
    "mean_squared_error(y_test, P2, squared=False)"
   ]
  },
  {
   "cell_type": "markdown",
   "id": "9a0f3261",
   "metadata": {},
   "source": [
    "## Shap Values - Feature Importance"
   ]
  },
  {
   "cell_type": "code",
   "execution_count": 150,
   "id": "db0c9cd1",
   "metadata": {},
   "outputs": [
    {
     "data": {
      "image/png": "[encoded data removed]",
      "text/plain": [
       "<Figure size 576x280.8 with 1 Axes>"
      ]
     },
     "metadata": {
      "needs_background": "light"
     },
     "output_type": "display_data"
    }
   ],
   "source": [
    "plt.figure(figsize = (15,8))\n",
    "ax = shap.summary_plot(shap_values, \n",
    "                       df[var_num],\n",
    "                       plot_type='bar',\n",
    "                      title= 'Linear Regression - Feature Importance')\n",
    "plt.show()"
   ]
  },
  {
   "cell_type": "code",
   "execution_count": 151,
   "id": "4cbf25c3",
   "metadata": {},
   "outputs": [
    {
     "data": {
      "image/png": "[encoded data removed]",
      "text/plain": [
       "<Figure size 576x280.8 with 1 Axes>"
      ]
     },
     "metadata": {
      "needs_background": "light"
     },
     "output_type": "display_data"
    }
   ],
   "source": [
    "explainer_ridg = shap.Explainer(clf.predict, X_test)\n",
    "shap_values_ridg = explainer_ridg(X_train)\n",
    "\n",
    "plt.figure(figsize = (15,8))\n",
    "ax = shap.summary_plot(shap_values_ridg, \n",
    "                       df[var_num],\n",
    "                       plot_type='bar',\n",
    "                      title= 'Ridge Regression - Feature Importance')\n",
    "plt.show()"
   ]
  },
  {
   "cell_type": "code",
   "execution_count": 152,
   "id": "413eb2be",
   "metadata": {
    "scrolled": true
   },
   "outputs": [
    {
     "data": {
      "image/png": "[encoded data removed]",
      "text/plain": [
       "<Figure size 576x280.8 with 1 Axes>"
      ]
     },
     "metadata": {
      "needs_background": "light"
     },
     "output_type": "display_data"
    }
   ],
   "source": [
    "plt.figure(figsize = (20,8))\n",
    "ax = shap.summary_plot(shap_values_SGDR, \n",
    "                      df[var_num],\n",
    "                      plot_type='bar',\n",
    "                      title= 'SGDR - Feature Importance')\n",
    "\n",
    "plt.show()"
   ]
  },
  {
   "cell_type": "markdown",
   "id": "32c08105",
   "metadata": {},
   "source": [
    "## Análise das duas variáveis com maior importância: GPD per capta | Investimento Estrangeiro "
   ]
  },
  {
   "cell_type": "code",
   "execution_count": 153,
   "id": "9478cc28",
   "metadata": {},
   "outputs": [
    {
     "data": {
      "image/png": "[encoded data removed]",
      "text/plain": [
       "<Figure size 720x288 with 1 Axes>"
      ]
     },
     "metadata": {
      "needs_background": "light"
     },
     "output_type": "display_data"
    }
   ],
   "source": [
    "plt.figure(figsize = (10,4))\n",
    "\n",
    "ax = sns.scatterplot(data=df, \n",
    "                     x='GDP per capita, current U.S. dollars', \n",
    "                     y='Innovations index (0-100)')\n",
    "\n",
    "ax.set_xlabel('GDP per capita')\n",
    "ax.set_ylabel('Índice de Inovação')\n",
    "\n",
    "plt.show()"
   ]
  },
  {
   "cell_type": "code",
   "execution_count": 154,
   "id": "7a46fcfd",
   "metadata": {},
   "outputs": [
    {
     "data": {
      "image/png": "[encoded data removed]",
      "text/plain": [
       "<Figure size 720x288 with 1 Axes>"
      ]
     },
     "metadata": {
      "needs_background": "light"
     },
     "output_type": "display_data"
    }
   ],
   "source": [
    "plt.figure(figsize = (10,4))\n",
    "\n",
    "ax = sns.scatterplot(data=df, \n",
    "                     x='Foreign Direct Investment, percent of GDP', \n",
    "                     y='Innovations index (0-100)')\n",
    "\n",
    "ax.set_xlabel('Investimento Estrangeiro')\n",
    "ax.set_ylabel('Índice de Inovação')\n",
    "\n",
    "plt.show()"
   ]
  },
  {
   "cell_type": "code",
   "execution_count": 155,
   "id": "9d598576",
   "metadata": {},
   "outputs": [
    {
     "data": {
      "text/plain": [
       "array([[-8.15401347e-01, -1.18339982e+00, -7.35467758e-01,\n",
       "        -2.18095353e+00,  1.22861482e+00, -1.55826938e+00],\n",
       "       [-1.01925168e+00, -3.64441323e-01,  1.21123645e-01,\n",
       "         5.21539725e-01, -8.06154580e-01, -2.57088214e-01],\n",
       "       [-9.17326515e-01, -6.56787601e-01, -9.09362254e-01,\n",
       "        -1.65619756e+00,  2.53960719e+00, -1.07032644e+00],\n",
       "       [-8.15401347e-01, -5.35835015e-01, -3.87678767e-01,\n",
       "        -1.02649039e+00,  8.25757793e-01, -2.80323592e-01],\n",
       "       [ 2.03850337e+00,  3.20426326e-01,  9.32631290e-01,\n",
       "        -5.30680636e-02, -1.12024650e+00, -2.33852836e-01],\n",
       "       [ 0.00000000e+00, -8.48909288e-01, -1.05105406e+00,\n",
       "        -5.30680636e-02,  1.04844148e-02, -9.77384930e-01],\n",
       "       [-9.17326515e-01,  3.55235403e-01, -2.71749104e-01,\n",
       "        -6.59161211e-01, -1.10659033e+00,  1.39262362e+00],\n",
       "       [ 0.00000000e+00,  7.40403809e-02,  6.95993500e-02,\n",
       "        -5.30680636e-02,  1.04844148e-02, -1.49905664e-03],\n",
       "       [ 0.00000000e+00,  7.40403809e-02,  6.95993500e-02,\n",
       "        -5.30680636e-02,  1.04844148e-02, -1.49905664e-03],\n",
       "       [ 0.00000000e+00, -6.93324404e-01, -5.03608431e-01,\n",
       "        -5.30680636e-02,  1.04844148e-02, -2.57088214e-01],\n",
       "       [-9.17326515e-01, -6.81279822e-01, -3.94119304e-01,\n",
       "        -5.30680636e-02,  2.52595102e+00, -1.11679720e+00],\n",
       "       [ 1.22310202e+00,  1.69781029e+00,  4.75353173e-01,\n",
       "         2.77799040e+00, -1.05879373e+00,  1.78762504e+00],\n",
       "       [-5.09625842e-01, -5.55264269e-01, -8.32075811e-01,\n",
       "        -5.30680636e-02,  8.73554389e-01, -3.03558970e-01],\n",
       "       [-8.15401347e-01, -3.79663223e-01,  4.81793709e-01,\n",
       "         4.16588531e-01, -9.35888200e-01, -2.57088214e-01],\n",
       "       [ 5.09625842e-01, -4.33621064e-01,  9.58393438e-01,\n",
       "         4.95301927e-01, -4.92062659e-01, -2.10617458e-01],\n",
       "       [ 1.63080269e+00, -4.13515334e-01,  4.62472099e-01,\n",
       "        -5.30680636e-02,  1.04844148e-02, -1.17675946e-01],\n",
       "       [-7.13476179e-01, -4.38115979e-01,  1.04212042e+00,\n",
       "        -5.30680636e-02, -9.35888200e-01, -3.26794348e-01],\n",
       "       [-8.15401347e-01, -1.28018074e+00, -3.20219338e+00,\n",
       "        -5.30680636e-02,  1.04844148e-02, -1.20973871e+00],\n",
       "       [-5.09625842e-01, -1.22994470e+00,  5.19398134e-03,\n",
       "        -5.30680636e-02,  1.73389313e+00, -1.62797551e+00],\n",
       "       [ 0.00000000e+00,  7.40403809e-02,  6.95993500e-02,\n",
       "        -5.30680636e-02,  1.04844148e-02, -1.49905664e-03],\n",
       "       [ 2.03850337e+00,  1.37211973e-01,  1.40923102e+00,\n",
       "        -5.56918434e-02, -1.12707459e+00, -2.10617458e-01],\n",
       "       [-9.17326515e-01,  3.87538848e-03, -5.55132726e-01,\n",
       "        -5.30680636e-02,  1.04844148e-02,  1.74115429e+00],\n",
       "       [ 1.12117685e+00, -5.06916233e-01,  1.57024444e+00,\n",
       "         7.83917711e-01, -4.85234574e-01, -2.10617458e-01],\n",
       "       [ 0.00000000e+00,  7.40403809e-02,  6.95993500e-02,\n",
       "        -5.30680636e-02,  1.04844148e-02, -1.49905664e-03],\n",
       "       [ 1.63080269e+00,  1.44492828e+00,  1.69261464e+00,\n",
       "         2.83046600e+00, -1.26363629e+00,  1.78762504e+00],\n",
       "       [-1.22310202e+00, -1.18257956e+00, -1.55985648e+00,\n",
       "        -2.07600233e+00,  1.09888120e+00, -1.55826938e+00],\n",
       "       [-5.09625842e-01,  2.38878980e+00,  3.40101898e-01,\n",
       "         7.83917711e-01,  9.51526718e-02,  8.81445305e-01],\n",
       "       [-3.05775505e-01,  2.38573269e+00,  1.47363639e+00,\n",
       "        -5.30680636e-02,  8.83245865e-02,  8.58209927e-01],\n",
       "       [ 0.00000000e+00, -5.77894412e-01, -9.86648696e-01,\n",
       "        -5.30680636e-02,  1.04844148e-02,  1.61148589e-01],\n",
       "       [ 2.03850337e+00,  1.50694256e+00,  2.11291161e-01,\n",
       "        -5.30680636e-02, -1.04513756e+00,  1.74115429e+00],\n",
       "       [-5.09625842e-01,  1.42455856e+00, -6.56519242e-02,\n",
       "        -5.30680636e-02, -7.37873728e-01,  1.43909438e+00]])"
      ]
     },
     "execution_count": 155,
     "metadata": {},
     "output_type": "execute_result"
    }
   ],
   "source": [
    "X_train"
   ]
  },
  {
   "cell_type": "code",
   "execution_count": 156,
   "id": "25ccf094",
   "metadata": {},
   "outputs": [
    {
     "data": {
      "image/png": "[encoded data removed]",
      "text/plain": [
       "<Figure size 720x288 with 1 Axes>"
      ]
     },
     "metadata": {
      "needs_background": "light"
     },
     "output_type": "display_data"
    }
   ],
   "source": [
    "plt.figure(figsize = (10,4))\n",
    "\n",
    "ax = sns.scatterplot(data=df, \n",
    "                     x='Information technology exports, percent of total goods exports', \n",
    "                     y='Innovations index (0-100)')\n",
    "\n",
    "ax.set_xlabel('Investimento Estrangeiro')\n",
    "ax.set_ylabel('Índice de Inovação')\n",
    "\n",
    "plt.show()"
   ]
  },
  {
   "cell_type": "code",
   "execution_count": 157,
   "id": "c5f4e508",
   "metadata": {},
   "outputs": [
    {
     "data": {
      "text/plain": [
       "['Information technology exports, percent of total goods exports',\n",
       " 'GDP per capita, current U.S. dollars',\n",
       " 'Foreign Direct Investment, percent of GDP',\n",
       " 'Competitiveness - World Economic Forum index (0-100)',\n",
       " 'Cost of starting a business, % of income per capita',\n",
       " 'Human Development Index (0 - 1)']"
      ]
     },
     "execution_count": 157,
     "metadata": {},
     "output_type": "execute_result"
    }
   ],
   "source": [
    "var_num"
   ]
  },
  {
   "cell_type": "code",
   "execution_count": 161,
   "id": "cbf80479",
   "metadata": {},
   "outputs": [
    {
     "name": "stdout",
     "output_type": "stream",
     "text": [
      "                                OLS Regression Results                               \n",
      "=====================================================================================\n",
      "Dep. Variable:     Innovations index (0-100)   R-squared:                       0.816\n",
      "Model:                                   OLS   Adj. R-squared:                  0.782\n",
      "Method:                        Least Squares   F-statistic:                     23.69\n",
      "Date:                       Mon, 26 Sep 2022   Prob (F-statistic):           1.77e-10\n",
      "Time:                               13:03:01   Log-Likelihood:                -75.856\n",
      "No. Observations:                         39   AIC:                             165.7\n",
      "Df Residuals:                             32   BIC:                             177.4\n",
      "Df Model:                                  6                                         \n",
      "Covariance Type:                   nonrobust                                         \n",
      "==================================================================================================================================\n",
      "                                                                     coef    std err          t      P>|t|      [0.025      0.975]\n",
      "----------------------------------------------------------------------------------------------------------------------------------\n",
      "const                                                              7.4033     11.614      0.637      0.528     -16.253      31.059\n",
      "Information technology exports, percent of total goods exports     4.6519      3.685      1.263      0.216      -2.853      12.157\n",
      "GDP per capita, current U.S. dollars                               0.0003      0.000      2.216      0.034    2.33e-05       0.001\n",
      "Foreign Direct Investment, percent of GDP                          1.1453      0.275      4.169      0.000       0.586       1.705\n",
      "Competitiveness - World Economic Forum index (0-100)               0.1338      0.111      1.200      0.239      -0.093       0.361\n",
      "Cost of starting a business, % of income per capita               -0.0050      0.030     -0.167      0.869      -0.066       0.056\n",
      "Human Development Index (0 - 1)                                   12.7647     13.663      0.934      0.357     -15.067      40.596\n",
      "==============================================================================\n",
      "Omnibus:                        0.721   Durbin-Watson:                   1.494\n",
      "Prob(Omnibus):                  0.697   Jarque-Bera (JB):                0.141\n",
      "Skew:                          -0.066   Prob(JB):                        0.932\n",
      "Kurtosis:                       3.264   Cond. No.                     5.58e+05\n",
      "==============================================================================\n",
      "\n",
      "Notes:\n",
      "[1] Standard Errors assume that the covariance matrix of the errors is correctly specified.\n",
      "[2] The condition number is large, 5.58e+05. This might indicate that there are\n",
      "strong multicollinearity or other numerical problems.\n"
     ]
    },
    {
     "name": "stderr",
     "output_type": "stream",
     "text": [
      "In a future version of pandas all arguments of concat except for the argument 'objs' will be keyword-only\n"
     ]
    }
   ],
   "source": [
    "import statsmodels.api as sm\n",
    "\n",
    "#define response variable\n",
    "y = df[var_targ]\n",
    "\n",
    "#define predictor variables\n",
    "x = df[var_num]\n",
    "\n",
    "#add constant to predictor variables\n",
    "x = sm.add_constant(x)\n",
    "\n",
    "#fit linear regression model\n",
    "model = sm.OLS(y, x).fit()\n",
    "\n",
    "#view model summary\n",
    "print(model.summary())"
   ]
  }
 ],
 "metadata": {
  "kernelspec": {
   "display_name": "Python 3 (ipykernel)",
   "language": "python",
   "name": "python3"
  },
  "language_info": {
   "codemirror_mode": {
    "name": "ipython",
    "version": 3
   },
   "file_extension": ".py",
   "mimetype": "text/x-python",
   "name": "python",
   "nbconvert_exporter": "python",
   "pygments_lexer": "ipython3",
   "version": "3.9.7"
  }
 },
 "nbformat": 4,
 "nbformat_minor": 5
}
